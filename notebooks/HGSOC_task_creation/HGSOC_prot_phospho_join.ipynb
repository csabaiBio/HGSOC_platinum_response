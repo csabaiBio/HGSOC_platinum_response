{
 "cells": [
  {
   "cell_type": "code",
   "execution_count": 1,
   "metadata": {},
   "outputs": [],
   "source": [
    "import pandas as pd\n",
    "pd.set_option('display.max_rows', None)  # or set a large number\n",
    "pd.set_option('display.max_columns', None)  # or set a large number"
   ]
  },
  {
   "cell_type": "code",
   "execution_count": 2,
   "metadata": {},
   "outputs": [
    {
     "name": "stderr",
     "output_type": "stream",
     "text": [
      "/home/ozkilim/anaconda3/envs/clam/lib/python3.7/site-packages/IPython/core/interactiveshell.py:3331: DtypeWarning: Columns (8807,8811) have mixed types.Specify dtype option on import or set low_memory=False.\n",
      "  exec(code_obj, self.user_global_ns, self.user_ns)\n"
     ]
    },
    {
     "name": "stdout",
     "output_type": "stream",
     "text": [
      "348\n"
     ]
    },
    {
     "name": "stderr",
     "output_type": "stream",
     "text": [
      "/home/ozkilim/anaconda3/envs/clam/lib/python3.7/site-packages/IPython/core/interactiveshell.py:3331: DtypeWarning: Columns (2655,2659) have mixed types.Specify dtype option on import or set low_memory=False.\n",
      "  exec(code_obj, self.user_global_ns, self.user_ns)\n"
     ]
    }
   ],
   "source": [
    "df_prot = pd.read_csv(\"/mnt/ncshare/ozkilim/BRCA/data/tasks/HGSOC_multimodal_all_prots_oz_merge.csv\")\n",
    "df_phos = pd.read_csv(\"/mnt/ncshare/ozkilim/BRCA/data/tasks/HGSOC_multimodal_phospho_oz_merge.csv\") # less here? only 344.... \n",
    "print(len(df_prot))\n",
    "# merge on slide_id\n",
    "\n",
    "result = pd.merge(df_prot, df_phos, on='slide_id', how='inner', suffixes=('', '_drop'))\n",
    "# Drop the duplicate columns with suffix '_drop'\n",
    "result.drop([col for col in result.columns if 'drop' in col], axis=1, inplace=True)"
   ]
  },
  {
   "cell_type": "code",
   "execution_count": 3,
   "metadata": {},
   "outputs": [],
   "source": [
    "result.to_csv(\"/mnt/ncshare/ozkilim/BRCA/data/tasks/HGSOC_multimodal_protein_and_phospho.csv\",index=None)"
   ]
  },
  {
   "cell_type": "code",
   "execution_count": 4,
   "metadata": {},
   "outputs": [],
   "source": [
    "# make one for primary and one for metastatic them re-do plits and runs. \n",
    "metastatic_result = result[result[\"Tumor type\"] ==\"Metastatic\"]\n",
    "metastatic_result.to_csv(\"/mnt/ncshare/ozkilim/BRCA/data/tasks/HGSOC_multimodal_metastatic_protein_and_phospho.csv\",index=None)\n",
    "primary_result = result[result[\"Tumor type\"] ==\"Primary\"]\n",
    "primary_result.to_csv(\"/mnt/ncshare/ozkilim/BRCA/data/tasks/HGSOC_multimodal_primary_protein_and_phospho.csv\",index=None)"
   ]
  },
  {
   "cell_type": "code",
   "execution_count": 5,
   "metadata": {},
   "outputs": [
    {
     "data": {
      "text/plain": [
       "Metastatic    174\n",
       "Primary       174\n",
       "Name: Tumor type, dtype: int64"
      ]
     },
     "execution_count": 5,
     "metadata": {},
     "output_type": "execute_result"
    }
   ],
   "source": [
    "result[\"Tumor type\"].value_counts()"
   ]
  }
 ],
 "metadata": {
  "kernelspec": {
   "display_name": "clam",
   "language": "python",
   "name": "python3"
  },
  "language_info": {
   "codemirror_mode": {
    "name": "ipython",
    "version": 3
   },
   "file_extension": ".py",
   "mimetype": "text/x-python",
   "name": "python",
   "nbconvert_exporter": "python",
   "pygments_lexer": "ipython3",
   "version": "3.7.7"
  }
 },
 "nbformat": 4,
 "nbformat_minor": 2
}
