{
 "cells": [
  {
   "cell_type": "code",
   "execution_count": 1,
   "metadata": {},
   "outputs": [],
   "source": [
    "import pandas as pd\n",
    "import os\n",
    "\n",
    "# Load the CSV file\n",
    "csv_file_path = '/mnt/ncshare/ozkilim/BRCA/data/tasks/PTRC-HGSOC.csv'  # Update this to the path of your CSV file\n",
    "df = pd.read_csv(csv_file_path, header=None)  # Assuming no header in the CSV\n",
    "\n",
    "# List all .h5 files in the folder\n",
    "folder_path = '/tank/WSI_data/Ovarian_WSIs/HGSOC_ovarian/CLAM/level_0/Ov_ViT/h5_files'  # Update this to the path of your folder with .h5 files\n",
    "h5_files = [f for f in os.listdir(folder_path) if f.endswith('.h5')]\n",
    "\n",
    "# Check if each row in the CSV has a corresponding .h5 file\n",
    "# Assuming the identifier is in the first column of the CSV\n",
    "df['has_file'] = df[0].apply(lambda x: any(f.startswith(x) for f in h5_files))\n",
    "\n",
    "# Remove rows without a corresponding .h5 file\n",
    "df_filtered = df[df['has_file']]\n",
    "\n",
    "# Drop the 'has_file' column\n",
    "df_filtered = df_filtered.drop(columns=['has_file'])\n",
    "\n",
    "# Save the updated DataFrame back to a CSV file\n",
    "df_filtered.to_csv('/mnt/ncshare/ozkilim/BRCA/data/tasks/PTRC-HGSOC_reduced.csv', index=False, header=False)\n",
    "\n"
   ]
  }
 ],
 "metadata": {
  "kernelspec": {
   "display_name": "clam",
   "language": "python",
   "name": "python3"
  },
  "language_info": {
   "codemirror_mode": {
    "name": "ipython",
    "version": 3
   },
   "file_extension": ".py",
   "mimetype": "text/x-python",
   "name": "python",
   "nbconvert_exporter": "python",
   "pygments_lexer": "ipython3",
   "version": "3.7.7"
  }
 },
 "nbformat": 4,
 "nbformat_minor": 2
}
