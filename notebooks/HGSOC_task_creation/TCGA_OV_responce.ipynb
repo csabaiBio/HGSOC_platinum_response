{
 "cells": [
  {
   "cell_type": "code",
   "execution_count": 2,
   "metadata": {},
   "outputs": [],
   "source": [
    "import pandas as pd \n",
    "from sklearn.preprocessing import StandardScaler\n",
    "import os"
   ]
  },
  {
   "cell_type": "code",
   "execution_count": 2,
   "metadata": {},
   "outputs": [
    {
     "name": "stderr",
     "output_type": "stream",
     "text": [
      "/home/ozkilim/anaconda3/envs/clam/lib/python3.7/site-packages/openpyxl/worksheet/_reader.py:329: UserWarning: Unknown extension is not supported and will be removed\n",
      "  warn(msg)\n"
     ]
    },
    {
     "data": {
      "text/plain": [
       "174"
      ]
     },
     "execution_count": 2,
     "metadata": {},
     "output_type": "execute_result"
    }
   ],
   "source": [
    "df_ov_clinical = pd.read_excel(\"/mnt/ncshare/ozkilim/BRCA/data/HGSOC_Zhang_TCGA_CPTAC_OV/mmc2.xlsx\")\n",
    "df_ov_clinical.head(10)\n",
    "len(df_ov_clinical)"
   ]
  },
  {
   "cell_type": "code",
   "execution_count": 3,
   "metadata": {},
   "outputs": [],
   "source": [
    "selected_stages= [\"IIIA\",\"IIIB\",\"IIIC\",\"IV\"]\n",
    "df_ov_clinical = df_ov_clinical[df_ov_clinical[\"tumor_stage\"].isin(selected_stages)]"
   ]
  },
  {
   "cell_type": "code",
   "execution_count": 4,
   "metadata": {},
   "outputs": [
    {
     "data": {
      "text/plain": [
       "1    85\n",
       "0    35\n",
       "Name: label, dtype: int64"
      ]
     },
     "execution_count": 4,
     "metadata": {},
     "output_type": "execute_result"
    }
   ],
   "source": [
    "df_ov_clinical[\"PlatinumStatus\"].value_counts()\n",
    "df_ov_clinical = df_ov_clinical[df_ov_clinical['PlatinumStatus'] != \"Not available\"]\n",
    "\n",
    "# remove not avalable... \n",
    "df_ov_clinical['label'] = df_ov_clinical['PlatinumStatus'].map({'Sensitive': 1, 'Resistant': 0})\n",
    "df_ov_clinical['label'].value_counts()"
   ]
  },
  {
   "cell_type": "markdown",
   "metadata": {},
   "source": [
    "#### Load proteomic data"
   ]
  },
  {
   "cell_type": "code",
   "execution_count": 5,
   "metadata": {},
   "outputs": [],
   "source": [
    "tcga_proteomic = pd.read_excel(\"/mnt/ncshare/ozkilim/BRCA/data/HGSOC_Zhang_TCGA_CPTAC_OV/mmc3-2.xlsx\")"
   ]
  },
  {
   "cell_type": "code",
   "execution_count": 6,
   "metadata": {},
   "outputs": [],
   "source": [
    "tcga_prots = tcga_proteomic[\"hgnc_symbol\"].to_list()"
   ]
  },
  {
   "cell_type": "code",
   "execution_count": 7,
   "metadata": {},
   "outputs": [],
   "source": [
    "# comapre to training dataset here in analysis\n",
    "# load other to find amount of overlapping prot and phospoprots.\n",
    "gloabal_prot = pd.read_csv(\"/mnt/ncshare/ozkilim/BRCA/data/HGSOC_processed_data/FFPE_discovery_globalprotein_imputed.tsv\",delimiter='\\t')\n",
    "HGSOC_prots = gloabal_prot[\"HGNC symbol\"].to_list()"
   ]
  },
  {
   "cell_type": "code",
   "execution_count": 8,
   "metadata": {},
   "outputs": [
    {
     "data": {
      "text/plain": [
       "60"
      ]
     },
     "execution_count": 8,
     "metadata": {},
     "output_type": "execute_result"
    }
   ],
   "source": [
    "HGSOC_prots_set = ['ABCB8', 'ACADSB', 'ACOT7', 'AIFM1', 'ARNT', 'ATM',\n",
    "       'ATP6V1D', 'BCL2L1', 'BIRC2', 'CA2', 'CAMK2D', 'CARMIL1', 'CASP7',\n",
    "       'CCDC167', 'CDKN1A', 'CDKN1B', 'CHUK', 'COX6A1', 'COX6C', 'COX7A2',\n",
    "       'COX7C', 'CPOX', 'EGFR', 'FDX1', 'GLUD1', 'GOLPH3L', 'GPX1', 'GPX4',\n",
    "       'HACL1', 'HADH', 'IDH1', 'IDI1', 'IL4I1', 'KEAP1', 'LDHA', 'LGALS1',\n",
    "       'LTA4H', 'MTDH', 'MYD88', 'NBN', 'NCAPH2', 'NDUFB3', 'NFKB1', 'NFKB2',\n",
    "       'PDK1', 'PECR', 'PLIN2', 'PTGES2', 'RAB25', 'RELA', 'RHOA', 'RIPK1',\n",
    "       'RPS6KB2', 'S100A10', 'SENP1', 'STAT3', 'TALDO1', 'TFRC', 'TGM2',\n",
    "       'TOP3B', 'TPMT', 'VCAM1', 'XIAP', 'YWHAG']\n",
    "\n",
    "\n",
    "set1 = set(tcga_prots)\n",
    "set2 = set(HGSOC_prots_set)\n",
    "\n",
    "# Find intersection\n",
    "intersection = set1 & set2\n",
    "\n",
    "# Convert back to list\n",
    "intersecting_list = list(intersection)\n",
    "\n",
    "len(intersecting_list)\n",
    "# 7621 intesecting.... 60/64 in dicsovery set... "
   ]
  },
  {
   "cell_type": "markdown",
   "metadata": {},
   "source": [
    "# Norm , Impute and Merge proteomics onto clinical"
   ]
  },
  {
   "cell_type": "code",
   "execution_count": 9,
   "metadata": {},
   "outputs": [
    {
     "name": "stderr",
     "output_type": "stream",
     "text": [
      "/home/ozkilim/anaconda3/envs/clam/lib/python3.7/site-packages/sklearn/utils/validation.py:1692: FutureWarning: Feature names only support names that are all strings. Got feature names with dtypes: ['datetime', 'float', 'str']. An error will be raised in 1.2.\n",
      "  FutureWarning,\n",
      "/home/ozkilim/anaconda3/envs/clam/lib/python3.7/site-packages/sklearn/utils/validation.py:1692: FutureWarning: Feature names only support names that are all strings. Got feature names with dtypes: ['datetime', 'float', 'str']. An error will be raised in 1.2.\n",
      "  FutureWarning,\n",
      "/home/ozkilim/anaconda3/envs/clam/lib/python3.7/site-packages/sklearn/utils/validation.py:1692: FutureWarning: Feature names only support names that are all strings. Got feature names with dtypes: ['datetime', 'float', 'str']. An error will be raised in 1.2.\n",
      "  FutureWarning,\n",
      "/home/ozkilim/anaconda3/envs/clam/lib/python3.7/site-packages/sklearn/utils/validation.py:1692: FutureWarning: Feature names only support names that are all strings. Got feature names with dtypes: ['datetime', 'float', 'str']. An error will be raised in 1.2.\n",
      "  FutureWarning,\n"
     ]
    },
    {
     "data": {
      "text/html": [
       "<div>\n",
       "<style scoped>\n",
       "    .dataframe tbody tr th:only-of-type {\n",
       "        vertical-align: middle;\n",
       "    }\n",
       "\n",
       "    .dataframe tbody tr th {\n",
       "        vertical-align: top;\n",
       "    }\n",
       "\n",
       "    .dataframe thead th {\n",
       "        text-align: right;\n",
       "    }\n",
       "</style>\n",
       "<table border=\"1\" class=\"dataframe\">\n",
       "  <thead>\n",
       "    <tr style=\"text-align: right;\">\n",
       "      <th>hgnc_symbol</th>\n",
       "      <th>A2M</th>\n",
       "      <th>ACADM</th>\n",
       "      <th>ACADS</th>\n",
       "      <th>ACADVL</th>\n",
       "      <th>ACAT1</th>\n",
       "      <th>PSEN1</th>\n",
       "      <th>ADA</th>\n",
       "      <th>ADSL</th>\n",
       "      <th>AGA</th>\n",
       "      <th>AGT</th>\n",
       "      <th>...</th>\n",
       "      <th>MT-ND2</th>\n",
       "      <th>MT-CO1</th>\n",
       "      <th>MT-CO2</th>\n",
       "      <th>MT-ATP8</th>\n",
       "      <th>MT-ATP6</th>\n",
       "      <th>MT-CO3</th>\n",
       "      <th>MT-ND4</th>\n",
       "      <th>MT-ND5</th>\n",
       "      <th>MT-CYB</th>\n",
       "      <th>bcr_patient_barcode</th>\n",
       "    </tr>\n",
       "  </thead>\n",
       "  <tbody>\n",
       "    <tr>\n",
       "      <th>PNNL-TCGA-09-1664</th>\n",
       "      <td>0.329787</td>\n",
       "      <td>-0.089153</td>\n",
       "      <td>0.170035</td>\n",
       "      <td>0.231383</td>\n",
       "      <td>0.320671</td>\n",
       "      <td>-1.783330</td>\n",
       "      <td>-1.787210</td>\n",
       "      <td>-1.039627</td>\n",
       "      <td>-0.794098</td>\n",
       "      <td>0.625866</td>\n",
       "      <td>...</td>\n",
       "      <td>-0.066533</td>\n",
       "      <td>0.402725</td>\n",
       "      <td>2.093747</td>\n",
       "      <td>-0.170579</td>\n",
       "      <td>0.036133</td>\n",
       "      <td>0.473987</td>\n",
       "      <td>-0.143183</td>\n",
       "      <td>0.204756</td>\n",
       "      <td>0.855386</td>\n",
       "      <td>TCGA-09-1664</td>\n",
       "    </tr>\n",
       "    <tr>\n",
       "      <th>PNNL-TCGA-13-1484</th>\n",
       "      <td>-0.629509</td>\n",
       "      <td>0.944590</td>\n",
       "      <td>-0.127556</td>\n",
       "      <td>-0.597598</td>\n",
       "      <td>0.531937</td>\n",
       "      <td>-1.009674</td>\n",
       "      <td>2.102763</td>\n",
       "      <td>0.901624</td>\n",
       "      <td>1.605626</td>\n",
       "      <td>-1.028414</td>\n",
       "      <td>...</td>\n",
       "      <td>-1.358740</td>\n",
       "      <td>-0.702376</td>\n",
       "      <td>0.350870</td>\n",
       "      <td>1.703491</td>\n",
       "      <td>0.870127</td>\n",
       "      <td>0.683079</td>\n",
       "      <td>-0.248484</td>\n",
       "      <td>3.860032</td>\n",
       "      <td>0.028845</td>\n",
       "      <td>TCGA-13-1484</td>\n",
       "    </tr>\n",
       "    <tr>\n",
       "      <th>PNNL-TCGA-13-1488</th>\n",
       "      <td>1.207150</td>\n",
       "      <td>0.267773</td>\n",
       "      <td>0.979108</td>\n",
       "      <td>0.403672</td>\n",
       "      <td>0.733048</td>\n",
       "      <td>-2.131350</td>\n",
       "      <td>0.963103</td>\n",
       "      <td>0.713942</td>\n",
       "      <td>-1.502288</td>\n",
       "      <td>0.326415</td>\n",
       "      <td>...</td>\n",
       "      <td>-0.460440</td>\n",
       "      <td>0.269568</td>\n",
       "      <td>0.809037</td>\n",
       "      <td>-0.093694</td>\n",
       "      <td>0.326904</td>\n",
       "      <td>0.658271</td>\n",
       "      <td>0.807531</td>\n",
       "      <td>1.496455</td>\n",
       "      <td>0.428676</td>\n",
       "      <td>TCGA-13-1488</td>\n",
       "    </tr>\n",
       "    <tr>\n",
       "      <th>PNNL-TCGA-13-1489</th>\n",
       "      <td>-0.239638</td>\n",
       "      <td>0.675980</td>\n",
       "      <td>0.222113</td>\n",
       "      <td>2.491108</td>\n",
       "      <td>2.108964</td>\n",
       "      <td>0.262226</td>\n",
       "      <td>-0.067715</td>\n",
       "      <td>1.296598</td>\n",
       "      <td>-0.731602</td>\n",
       "      <td>0.122652</td>\n",
       "      <td>...</td>\n",
       "      <td>-0.400554</td>\n",
       "      <td>-0.759737</td>\n",
       "      <td>-1.458776</td>\n",
       "      <td>1.465628</td>\n",
       "      <td>-0.283940</td>\n",
       "      <td>-0.344100</td>\n",
       "      <td>-1.046849</td>\n",
       "      <td>-1.924024</td>\n",
       "      <td>-0.539971</td>\n",
       "      <td>TCGA-13-1489</td>\n",
       "    </tr>\n",
       "    <tr>\n",
       "      <th>PNNL-TCGA-13-1494</th>\n",
       "      <td>0.925407</td>\n",
       "      <td>-0.628408</td>\n",
       "      <td>-0.432586</td>\n",
       "      <td>-0.779874</td>\n",
       "      <td>-2.944690</td>\n",
       "      <td>-0.018193</td>\n",
       "      <td>-0.469402</td>\n",
       "      <td>0.431018</td>\n",
       "      <td>0.980886</td>\n",
       "      <td>-0.101015</td>\n",
       "      <td>...</td>\n",
       "      <td>0.415860</td>\n",
       "      <td>0.119793</td>\n",
       "      <td>1.135971</td>\n",
       "      <td>-0.360389</td>\n",
       "      <td>1.483225</td>\n",
       "      <td>0.212162</td>\n",
       "      <td>1.868202</td>\n",
       "      <td>1.029291</td>\n",
       "      <td>-0.026735</td>\n",
       "      <td>TCGA-13-1494</td>\n",
       "    </tr>\n",
       "  </tbody>\n",
       "</table>\n",
       "<p>5 rows × 9601 columns</p>\n",
       "</div>"
      ],
      "text/plain": [
       "hgnc_symbol             A2M     ACADM     ACADS    ACADVL     ACAT1     PSEN1  \\\n",
       "PNNL-TCGA-09-1664  0.329787 -0.089153  0.170035  0.231383  0.320671 -1.783330   \n",
       "PNNL-TCGA-13-1484 -0.629509  0.944590 -0.127556 -0.597598  0.531937 -1.009674   \n",
       "PNNL-TCGA-13-1488  1.207150  0.267773  0.979108  0.403672  0.733048 -2.131350   \n",
       "PNNL-TCGA-13-1489 -0.239638  0.675980  0.222113  2.491108  2.108964  0.262226   \n",
       "PNNL-TCGA-13-1494  0.925407 -0.628408 -0.432586 -0.779874 -2.944690 -0.018193   \n",
       "\n",
       "hgnc_symbol             ADA      ADSL       AGA       AGT  ...    MT-ND2  \\\n",
       "PNNL-TCGA-09-1664 -1.787210 -1.039627 -0.794098  0.625866  ... -0.066533   \n",
       "PNNL-TCGA-13-1484  2.102763  0.901624  1.605626 -1.028414  ... -1.358740   \n",
       "PNNL-TCGA-13-1488  0.963103  0.713942 -1.502288  0.326415  ... -0.460440   \n",
       "PNNL-TCGA-13-1489 -0.067715  1.296598 -0.731602  0.122652  ... -0.400554   \n",
       "PNNL-TCGA-13-1494 -0.469402  0.431018  0.980886 -0.101015  ...  0.415860   \n",
       "\n",
       "hgnc_symbol          MT-CO1    MT-CO2   MT-ATP8   MT-ATP6    MT-CO3    MT-ND4  \\\n",
       "PNNL-TCGA-09-1664  0.402725  2.093747 -0.170579  0.036133  0.473987 -0.143183   \n",
       "PNNL-TCGA-13-1484 -0.702376  0.350870  1.703491  0.870127  0.683079 -0.248484   \n",
       "PNNL-TCGA-13-1488  0.269568  0.809037 -0.093694  0.326904  0.658271  0.807531   \n",
       "PNNL-TCGA-13-1489 -0.759737 -1.458776  1.465628 -0.283940 -0.344100 -1.046849   \n",
       "PNNL-TCGA-13-1494  0.119793  1.135971 -0.360389  1.483225  0.212162  1.868202   \n",
       "\n",
       "hgnc_symbol          MT-ND5    MT-CYB  bcr_patient_barcode  \n",
       "PNNL-TCGA-09-1664  0.204756  0.855386         TCGA-09-1664  \n",
       "PNNL-TCGA-13-1484  3.860032  0.028845         TCGA-13-1484  \n",
       "PNNL-TCGA-13-1488  1.496455  0.428676         TCGA-13-1488  \n",
       "PNNL-TCGA-13-1489 -1.924024 -0.539971         TCGA-13-1489  \n",
       "PNNL-TCGA-13-1494  1.029291 -0.026735         TCGA-13-1494  \n",
       "\n",
       "[5 rows x 9601 columns]"
      ]
     },
     "execution_count": 9,
     "metadata": {},
     "output_type": "execute_result"
    }
   ],
   "source": [
    "from sklearn.impute import SimpleImputer, KNNImputer\n",
    "\n",
    "\n",
    "# transopose and organise \n",
    "tcga_proteomic_t = tcga_proteomic.T\n",
    "tcga_proteomic_t.columns = tcga_proteomic_t.iloc[1]\n",
    "tcga_proteomic_t = tcga_proteomic_t.iloc[2:]\n",
    "# impute \n",
    "# tcga_proteomic_t.index\n",
    "knn_imputer = KNNImputer(n_neighbors=5)\n",
    "\n",
    "scaler = StandardScaler()\n",
    "# Fit and transform the DataFrame\n",
    "tcga_proteomic_data = pd.DataFrame(scaler.fit_transform(tcga_proteomic_t), columns=tcga_proteomic_t.columns, index=tcga_proteomic_t.index)\n",
    "\n",
    "tcga_proteomic_data = pd.DataFrame(knn_imputer.fit_transform(tcga_proteomic_data), columns=tcga_proteomic_data.columns, index =tcga_proteomic_data.index)\n",
    "\n",
    "tcga_proteomic_data[\"bcr_patient_barcode\"] = tcga_proteomic_t.index.str.split('-', 1).str[1]\n",
    "tcga_proteomic_data.head()"
   ]
  },
  {
   "cell_type": "markdown",
   "metadata": {},
   "source": [
    "### Load Phospo-proteomic_data"
   ]
  },
  {
   "cell_type": "code",
   "execution_count": 4,
   "metadata": {},
   "outputs": [],
   "source": [
    "tcga_phospoproteomic = pd.read_excel(\"/mnt/ncshare/ozkilim/BRCA/data/HGSOC_Zhang_TCGA_CPTAC_OV/mmc3-2.xlsx\",sheet_name=\"FullOvarianPhosphoproteomeData\")\n",
    "tcga_phospoproteomic.head()\n",
    "\n",
    "\n",
    "\n",
    "# # transopose and organise \n",
    "# tcga_phospoproteomic_t = tcga_phospoproteomic.T\n",
    "# tcga_phospoproteomic_t.columns = tcga_phospoproteomic_t.iloc[1]\n",
    "# tcga_phospoproteomic_t = tcga_phospoproteomic_t.iloc[2:]\n",
    "# # impute \n",
    "# # tcga_phospoproteomic_t.index\n",
    "# knn_imputer = KNNImputer(n_neighbors=5)\n",
    "\n",
    "# scaler = StandardScaler()\n",
    "# # Fit and transform the DataFrame\n",
    "# tcga_phospoproteomic_data = pd.DataFrame(scaler.fit_transform(tcga_phospoproteomic_t), columns=tcga_phospoproteomic_t.columns, index=tcga_phospoproteomic_t.index)\n",
    "\n",
    "# tcga_phospoproteomic_data = pd.DataFrame(knn_imputer.fit_transform(tcga_phospoproteomic_data), columns=tcga_phospoproteomic_data.columns, index=tcga_phospoproteomic_data.index)\n",
    "\n",
    "# tcga_phospoproteomic_data[\"bcr_patient_barcode\"] = tcga_phospoproteomic_t.index.str.split('-', 1).str[1]\n",
    "# tcga_phospoproteomic_data.head()\n"
   ]
  },
  {
   "cell_type": "code",
   "execution_count": 6,
   "metadata": {},
   "outputs": [
    {
     "data": {
      "text/plain": [
       "42825"
      ]
     },
     "execution_count": 6,
     "metadata": {},
     "output_type": "execute_result"
    }
   ],
   "source": [
    "tcga_phospoproteomic.head()\n",
    "len(tcga_phospoproteomic) # not in same format as train set... --> maybe best not to use at moment."
   ]
  },
  {
   "cell_type": "code",
   "execution_count": 10,
   "metadata": {},
   "outputs": [
    {
     "data": {
      "text/html": [
       "<div>\n",
       "<style scoped>\n",
       "    .dataframe tbody tr th:only-of-type {\n",
       "        vertical-align: middle;\n",
       "    }\n",
       "\n",
       "    .dataframe tbody tr th {\n",
       "        vertical-align: top;\n",
       "    }\n",
       "\n",
       "    .dataframe thead th {\n",
       "        text-align: right;\n",
       "    }\n",
       "</style>\n",
       "<table border=\"1\" class=\"dataframe\">\n",
       "  <thead>\n",
       "    <tr style=\"text-align: right;\">\n",
       "      <th></th>\n",
       "      <th>A2M</th>\n",
       "      <th>ACADM</th>\n",
       "      <th>ACADS</th>\n",
       "      <th>ACADVL</th>\n",
       "      <th>ACAT1</th>\n",
       "      <th>PSEN1</th>\n",
       "      <th>ADA</th>\n",
       "      <th>ADSL</th>\n",
       "      <th>AGA</th>\n",
       "      <th>AGT</th>\n",
       "      <th>...</th>\n",
       "      <th>vital_status</th>\n",
       "      <th>daystodeath_or_LFU</th>\n",
       "      <th>Prog_or_Recur</th>\n",
       "      <th>daystotumorprog-recur-LFU</th>\n",
       "      <th>PlatinumStatus</th>\n",
       "      <th>PlatinumFreeInterval (mos)</th>\n",
       "      <th>ethnicity</th>\n",
       "      <th>race</th>\n",
       "      <th>year_of_diagnosis</th>\n",
       "      <th>label</th>\n",
       "    </tr>\n",
       "  </thead>\n",
       "  <tbody>\n",
       "    <tr>\n",
       "      <th>0</th>\n",
       "      <td>-0.629509</td>\n",
       "      <td>0.944590</td>\n",
       "      <td>-0.127556</td>\n",
       "      <td>-0.597598</td>\n",
       "      <td>0.531937</td>\n",
       "      <td>-1.009674</td>\n",
       "      <td>2.102763</td>\n",
       "      <td>0.901624</td>\n",
       "      <td>1.605626</td>\n",
       "      <td>-1.028414</td>\n",
       "      <td>...</td>\n",
       "      <td>DECEASED</td>\n",
       "      <td>3728</td>\n",
       "      <td>Yes</td>\n",
       "      <td>496</td>\n",
       "      <td>Sensitive</td>\n",
       "      <td>10.1</td>\n",
       "      <td>NOT HISPANIC OR LATINO</td>\n",
       "      <td>WHITE</td>\n",
       "      <td>2000</td>\n",
       "      <td>1</td>\n",
       "    </tr>\n",
       "    <tr>\n",
       "      <th>1</th>\n",
       "      <td>1.207150</td>\n",
       "      <td>0.267773</td>\n",
       "      <td>0.979108</td>\n",
       "      <td>0.403672</td>\n",
       "      <td>0.733048</td>\n",
       "      <td>-2.131350</td>\n",
       "      <td>0.963103</td>\n",
       "      <td>0.713942</td>\n",
       "      <td>-1.502288</td>\n",
       "      <td>0.326415</td>\n",
       "      <td>...</td>\n",
       "      <td>DECEASED</td>\n",
       "      <td>2154</td>\n",
       "      <td>Yes</td>\n",
       "      <td>351</td>\n",
       "      <td>Sensitive</td>\n",
       "      <td>6.0</td>\n",
       "      <td>NOT HISPANIC OR LATINO</td>\n",
       "      <td>WHITE</td>\n",
       "      <td>2002</td>\n",
       "      <td>1</td>\n",
       "    </tr>\n",
       "    <tr>\n",
       "      <th>2</th>\n",
       "      <td>0.282348</td>\n",
       "      <td>0.253173</td>\n",
       "      <td>1.115470</td>\n",
       "      <td>1.145510</td>\n",
       "      <td>0.537811</td>\n",
       "      <td>0.422215</td>\n",
       "      <td>1.826634</td>\n",
       "      <td>0.845054</td>\n",
       "      <td>1.449441</td>\n",
       "      <td>-0.665003</td>\n",
       "      <td>...</td>\n",
       "      <td>DECEASED</td>\n",
       "      <td>2154</td>\n",
       "      <td>Yes</td>\n",
       "      <td>351</td>\n",
       "      <td>Sensitive</td>\n",
       "      <td>6.0</td>\n",
       "      <td>NOT HISPANIC OR LATINO</td>\n",
       "      <td>WHITE</td>\n",
       "      <td>2002</td>\n",
       "      <td>1</td>\n",
       "    </tr>\n",
       "    <tr>\n",
       "      <th>3</th>\n",
       "      <td>-0.239638</td>\n",
       "      <td>0.675980</td>\n",
       "      <td>0.222113</td>\n",
       "      <td>2.491108</td>\n",
       "      <td>2.108964</td>\n",
       "      <td>0.262226</td>\n",
       "      <td>-0.067715</td>\n",
       "      <td>1.296598</td>\n",
       "      <td>-0.731602</td>\n",
       "      <td>0.122652</td>\n",
       "      <td>...</td>\n",
       "      <td>DECEASED</td>\n",
       "      <td>2553</td>\n",
       "      <td>Yes</td>\n",
       "      <td>806</td>\n",
       "      <td>Sensitive</td>\n",
       "      <td>17.5</td>\n",
       "      <td>NOT HISPANIC OR LATINO</td>\n",
       "      <td>WHITE</td>\n",
       "      <td>2002</td>\n",
       "      <td>1</td>\n",
       "    </tr>\n",
       "    <tr>\n",
       "      <th>4</th>\n",
       "      <td>-0.431909</td>\n",
       "      <td>-0.192069</td>\n",
       "      <td>0.382654</td>\n",
       "      <td>2.501345</td>\n",
       "      <td>1.642925</td>\n",
       "      <td>0.431229</td>\n",
       "      <td>-0.416080</td>\n",
       "      <td>0.906681</td>\n",
       "      <td>-0.368395</td>\n",
       "      <td>-0.461536</td>\n",
       "      <td>...</td>\n",
       "      <td>DECEASED</td>\n",
       "      <td>2553</td>\n",
       "      <td>Yes</td>\n",
       "      <td>806</td>\n",
       "      <td>Sensitive</td>\n",
       "      <td>17.5</td>\n",
       "      <td>NOT HISPANIC OR LATINO</td>\n",
       "      <td>WHITE</td>\n",
       "      <td>2002</td>\n",
       "      <td>1</td>\n",
       "    </tr>\n",
       "  </tbody>\n",
       "</table>\n",
       "<p>5 rows × 9617 columns</p>\n",
       "</div>"
      ],
      "text/plain": [
       "        A2M     ACADM     ACADS    ACADVL     ACAT1     PSEN1       ADA  \\\n",
       "0 -0.629509  0.944590 -0.127556 -0.597598  0.531937 -1.009674  2.102763   \n",
       "1  1.207150  0.267773  0.979108  0.403672  0.733048 -2.131350  0.963103   \n",
       "2  0.282348  0.253173  1.115470  1.145510  0.537811  0.422215  1.826634   \n",
       "3 -0.239638  0.675980  0.222113  2.491108  2.108964  0.262226 -0.067715   \n",
       "4 -0.431909 -0.192069  0.382654  2.501345  1.642925  0.431229 -0.416080   \n",
       "\n",
       "       ADSL       AGA       AGT  ...  vital_status  daystodeath_or_LFU  \\\n",
       "0  0.901624  1.605626 -1.028414  ...      DECEASED                3728   \n",
       "1  0.713942 -1.502288  0.326415  ...      DECEASED                2154   \n",
       "2  0.845054  1.449441 -0.665003  ...      DECEASED                2154   \n",
       "3  1.296598 -0.731602  0.122652  ...      DECEASED                2553   \n",
       "4  0.906681 -0.368395 -0.461536  ...      DECEASED                2553   \n",
       "\n",
       "   Prog_or_Recur  daystotumorprog-recur-LFU  PlatinumStatus  \\\n",
       "0            Yes                        496       Sensitive   \n",
       "1            Yes                        351       Sensitive   \n",
       "2            Yes                        351       Sensitive   \n",
       "3            Yes                        806       Sensitive   \n",
       "4            Yes                        806       Sensitive   \n",
       "\n",
       "   PlatinumFreeInterval (mos)               ethnicity   race  \\\n",
       "0                        10.1  NOT HISPANIC OR LATINO  WHITE   \n",
       "1                         6.0  NOT HISPANIC OR LATINO  WHITE   \n",
       "2                         6.0  NOT HISPANIC OR LATINO  WHITE   \n",
       "3                        17.5  NOT HISPANIC OR LATINO  WHITE   \n",
       "4                        17.5  NOT HISPANIC OR LATINO  WHITE   \n",
       "\n",
       "   year_of_diagnosis  label  \n",
       "0               2000      1  \n",
       "1               2002      1  \n",
       "2               2002      1  \n",
       "3               2002      1  \n",
       "4               2002      1  \n",
       "\n",
       "[5 rows x 9617 columns]"
      ]
     },
     "execution_count": 10,
     "metadata": {},
     "output_type": "execute_result"
    }
   ],
   "source": [
    "merged = pd.merge(tcga_proteomic_data,df_ov_clinical, on='bcr_patient_barcode')\n",
    "merged.head()"
   ]
  },
  {
   "cell_type": "markdown",
   "metadata": {},
   "source": [
    "#### setup HGSOC proteomics data and train classifier with overlapping prots. Then test of tcga data... with label\n",
    "### first prep dataframe with label slides and signatures.\n",
    "\n",
    "\n",
    "### Set up dummy learning task to see if there is some signal or corrolation?...."
   ]
  },
  {
   "cell_type": "code",
   "execution_count": 11,
   "metadata": {},
   "outputs": [
    {
     "name": "stdout",
     "output_type": "stream",
     "text": [
      "Random Forest Accuracy: 0.7241379310344828\n",
      "Random Forest ROC AUC: 0.5892857142857143\n"
     ]
    }
   ],
   "source": [
    "from sklearn.model_selection import train_test_split\n",
    "from sklearn.ensemble import RandomForestClassifier\n",
    "from sklearn.metrics import accuracy_score\n",
    "from sklearn.metrics import accuracy_score, roc_auc_score\n",
    "\n",
    "\n",
    "train_df, test_df  = train_test_split(merged, test_size=0.2, random_state=42)\n",
    "\n",
    "X_train = train_df[intersecting_list]\n",
    "X_test =  test_df[intersecting_list]\n",
    "y_train = train_df['label']\n",
    "y_test = test_df['label']\n",
    "\n",
    "# Initialize and train the Random Forest classifier\n",
    "rf_clf = RandomForestClassifier()\n",
    "rf_clf.fit(X_train, y_train)\n",
    "\n",
    "# Make predictions on the test set\n",
    "rf_pred = rf_clf.predict(X_test)\n",
    "rf_pred_proba = rf_clf.predict_proba(X_test)[:, 1]  # Get probabilities for the positive class\n",
    "\n",
    "# Evaluate the Random Forest model.\n",
    "rf_accuracy = accuracy_score(y_test, rf_pred)\n",
    "rf_roc_auc = roc_auc_score(y_test, rf_pred_proba)\n",
    "print(f\"Random Forest Accuracy: {rf_accuracy}\")\n",
    "print(f\"Random Forest ROC AUC: {rf_roc_auc}\")"
   ]
  },
  {
   "cell_type": "code",
   "execution_count": 16,
   "metadata": {},
   "outputs": [
    {
     "name": "stdout",
     "output_type": "stream",
     "text": [
      "['RAB25', 'BCL2L1', 'HADH', 'NFKB2', 'COX7A2', 'COX7C', 'TPMT', 'GOLPH3L', 'LTA4H', 'COX6C', 'IDH1', 'YWHAG', 'S100A10', 'COX6A1', 'NDUFB3', 'TGM2', 'CDKN1B', 'NFKB1', 'CAMK2D', 'IL4I1', 'FDX1', 'VCAM1', 'ATM', 'NCAPH2', 'ABCB8', 'IDI1', 'PLIN2', 'ATP6V1D', 'GPX4', 'CA2', 'RELA', 'GLUD1', 'TOP3B', 'RPS6KB2', 'KEAP1', 'LGALS1', 'MTDH', 'AIFM1', 'RHOA', 'CASP7', 'PTGES2', 'TFRC', 'CHUK', 'GPX1', 'PDK1', 'STAT3', 'PECR', 'TALDO1', 'XIAP', 'ACADSB', 'CPOX', 'ARNT', 'BIRC2', 'ACOT7', 'HACL1', 'MYD88', 'EGFR', 'RIPK1', 'NBN', 'LDHA']\n"
     ]
    }
   ],
   "source": [
    "print(intersecting_list)"
   ]
  },
  {
   "cell_type": "markdown",
   "metadata": {},
   "source": [
    "### Merge the wsi slide paths for testing. "
   ]
  },
  {
   "cell_type": "code",
   "execution_count": 12,
   "metadata": {},
   "outputs": [],
   "source": [
    "folder_path = '/tank/WSI_data/Ovarian_WSIs/TCGA-OV/slides'\n",
    "\n",
    "# List all filenames in the folder\n",
    "filenames = [f for f in os.listdir(folder_path) if os.path.isfile(os.path.join(folder_path, f))]\n",
    "\n",
    "# Extract TCGA identifiers from filenames and create a new DataFrame\n",
    "# Assuming the TCGA ID is always at the start of the filename up to the third '-'\n",
    "file_df = pd.DataFrame({'Filename': filenames})\n",
    "file_df['bcr_patient_barcode'] = file_df['Filename'].apply(lambda x: '-'.join(x.split('-')[:3]))\n",
    "\n",
    "file_df['bcr_patient_barcode']\n",
    "\n",
    "proteomics_and_wsi = merged.merge(file_df, on='bcr_patient_barcode', how='left')"
   ]
  },
  {
   "cell_type": "code",
   "execution_count": 13,
   "metadata": {},
   "outputs": [],
   "source": [
    "proteomics_and_wsi[\"Filename\"] = proteomics_and_wsi[\"Filename\"].str[:-4]"
   ]
  },
  {
   "cell_type": "code",
   "execution_count": 14,
   "metadata": {},
   "outputs": [],
   "source": [
    "len(proteomics_and_wsi)\n",
    "\n",
    "# now change column namues to be appropriate \n",
    "\n",
    "proteomics_and_wsi = proteomics_and_wsi.rename(columns={\"bcr_patient_barcode\":\"case_id\",\"Filename\":\"slide_id\"})"
   ]
  },
  {
   "cell_type": "code",
   "execution_count": 15,
   "metadata": {},
   "outputs": [],
   "source": [
    "proteomics_and_wsi.to_csv(\"/mnt/ncshare/ozkilim/BRCA/data/tasks/TCGA_platinum_reposnce_test_set.csv\",index=None)"
   ]
  }
 ],
 "metadata": {
  "kernelspec": {
   "display_name": "clam",
   "language": "python",
   "name": "python3"
  },
  "language_info": {
   "codemirror_mode": {
    "name": "ipython",
    "version": 3
   },
   "file_extension": ".py",
   "mimetype": "text/x-python",
   "name": "python",
   "nbconvert_exporter": "python",
   "pygments_lexer": "ipython3",
   "version": "3.7.7"
  }
 },
 "nbformat": 4,
 "nbformat_minor": 2
}
