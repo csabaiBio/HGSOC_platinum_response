{
 "cells": [
  {
   "cell_type": "code",
   "execution_count": 1,
   "metadata": {},
   "outputs": [],
   "source": [
    "import pandas as pd\n",
    "import os\n",
    "from sklearn.model_selection import KFold"
   ]
  },
  {
   "cell_type": "markdown",
   "metadata": {},
   "source": [
    "#### Split TCGA 5 fold then test on HGSOC combined."
   ]
  },
  {
   "cell_type": "code",
   "execution_count": 2,
   "metadata": {},
   "outputs": [
    {
     "name": "stderr",
     "output_type": "stream",
     "text": [
      "/home/ozkilim/anaconda3/envs/clam/lib/python3.7/site-packages/IPython/core/interactiveshell.py:3331: DtypeWarning: Columns (8807,8811) have mixed types.Specify dtype option on import or set low_memory=False.\n",
      "  exec(code_obj, self.user_global_ns, self.user_ns)\n"
     ]
    },
    {
     "name": "stdout",
     "output_type": "stream",
     "text": [
      "Split files created successfully.\n"
     ]
    }
   ],
   "source": [
    "# Load your main CSV file (replace with the actual file path)\n",
    "main_df = pd.read_csv('/mnt/ncshare/ozkilim/BRCA/data/tasks/HGSOC_multimodal_metastatic_protein_and_phospho.csv')\n",
    "\n",
    "# Focus on the 'Sample source' and 'slide_id' columns\n",
    "data = main_df[['Sample Source', 'slide_id']]\n",
    "\n",
    "# Get unique sample sources\n",
    "sample_sources = data['Sample Source'].unique()\n",
    "\n",
    "# Create a KFold object for 5 folds\n",
    "kf = KFold(n_splits=5, shuffle=True, random_state=42)\n",
    "\n",
    "# Directory to store split files\n",
    "split_dir = 'split_files'\n",
    "os.makedirs(split_dir, exist_ok=True)\n",
    "\n",
    "# Iterate over each sample source to create split files\n",
    "# Filter data for cross-validation and test sets.\n",
    "test_data = data['slide_id']\n",
    "TCGA_data = pd.read_csv('/mnt/ncshare/ozkilim/BRCA/data/tasks/TCGA_platinum_reposnce_test_set.csv')# load tcga data #\n",
    "cv_data = TCGA_data['slide_id']\n",
    "# Apply 5-fold cross-validation\n",
    "for fold, (train_index, val_index) in enumerate(kf.split(cv_data)):\n",
    "    # Extract train, val, and test slide IDs\n",
    "    train_ids = cv_data.iloc[train_index].tolist()\n",
    "    val_ids = cv_data.iloc[val_index].tolist()\n",
    "    test_ids = test_data.tolist()\n",
    "\n",
    "    # Determine the maximum length among train, val, and test lists\n",
    "    max_len = max(len(train_ids), len(val_ids), len(test_ids))\n",
    "\n",
    "    # Extend lists to have the same length\n",
    "    train_ids.extend([\"\"] * (max_len - len(train_ids)))\n",
    "    val_ids.extend([\"\"] * (max_len - len(val_ids)))\n",
    "    test_ids.extend([\"\"] * (max_len - len(test_ids)))\n",
    "\n",
    "    # Create the split DataFrame\n",
    "    split_df = pd.DataFrame({'train': train_ids[:max_len], 'val': val_ids[:max_len], 'test': test_ids[:max_len]})\n",
    "\n",
    "    # Save the split file\n",
    "    split_filename = f'/mnt/ncshare/ozkilim/BRCA/splits/TCGA_train_HGSOC_metastatic_Test/splits_{fold}.csv'\n",
    "    # split_filepath = os.path.join(split_dir, split_filename)\n",
    "    split_df.to_csv(split_filename, index=True)\n",
    "\n",
    "print(\"Split files created successfully.\")"
   ]
  }
 ],
 "metadata": {
  "kernelspec": {
   "display_name": "clam",
   "language": "python",
   "name": "python3"
  },
  "language_info": {
   "codemirror_mode": {
    "name": "ipython",
    "version": 3
   },
   "file_extension": ".py",
   "mimetype": "text/x-python",
   "name": "python",
   "nbconvert_exporter": "python",
   "pygments_lexer": "ipython3",
   "version": "3.7.7"
  }
 },
 "nbformat": 4,
 "nbformat_minor": 2
}
