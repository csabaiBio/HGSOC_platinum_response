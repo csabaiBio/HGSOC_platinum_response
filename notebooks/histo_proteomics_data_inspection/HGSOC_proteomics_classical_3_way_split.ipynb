{
 "cells": [
  {
   "cell_type": "code",
   "execution_count": 1,
   "metadata": {},
   "outputs": [
    {
     "name": "stdout",
     "output_type": "stream",
     "text": [
      "Requirement already satisfied: xgboost in /home/ozkilim/anaconda3/envs/clam/lib/python3.7/site-packages (1.6.2)\n",
      "Requirement already satisfied: scipy in /home/ozkilim/anaconda3/envs/clam/lib/python3.7/site-packages (from xgboost) (1.7.3)\n",
      "Requirement already satisfied: numpy in /home/ozkilim/anaconda3/envs/clam/lib/python3.7/site-packages (from xgboost) (1.21.6)\n"
     ]
    }
   ],
   "source": [
    "import pandas as pd\n",
    "from sklearn.model_selection import train_test_split\n",
    "from sklearn.ensemble import RandomForestClassifier\n",
    "from sklearn.metrics import accuracy_score\n",
    "from sklearn.metrics import accuracy_score, roc_auc_score\n",
    "!pip install xgboost\n",
    "import numpy as np\n",
    "import os \n",
    "from sklearn.ensemble import RandomForestRegressor, VotingRegressor\n",
    "from sklearn.linear_model import ElasticNet\n",
    "from xgboost import XGBRegressor\n",
    "from sklearn.ensemble import VotingClassifier\n",
    "import json"
   ]
  },
  {
   "cell_type": "markdown",
   "metadata": {},
   "source": [
    "### Test proteomic data for 3 way splits"
   ]
  },
  {
   "cell_type": "code",
   "execution_count": 2,
   "metadata": {},
   "outputs": [
    {
     "data": {
      "text/plain": [
       "0      0\n",
       "1      0\n",
       "2      1\n",
       "3      1\n",
       "4      1\n",
       "      ..\n",
       "169    0\n",
       "170    1\n",
       "171    1\n",
       "172    0\n",
       "173    0\n",
       "Name: label, Length: 174, dtype: int64"
      ]
     },
     "execution_count": 2,
     "metadata": {},
     "output_type": "execute_result"
    }
   ],
   "source": [
    "tissue_type = \"metastatic\"\n",
    "\n",
    "df = pd.read_csv(\"/mnt/ncshare/ozkilim/BRCA/data/tasks/HGSOC_multimodal_\"+tissue_type+\"_protein_and_phospho.csv\",header=0,low_memory=False)\n",
    "df[\"label\"]"
   ]
  },
  {
   "cell_type": "code",
   "execution_count": 3,
   "metadata": {},
   "outputs": [
    {
     "name": "stdout",
     "output_type": "stream",
     "text": [
      "['TPMT', 'CARMIL1', 'CCDC167', 'TALDO1', 'COX7A2', 'LGALS1', 'S100A10', 'ACADSB', 'COX6C', 'COX7C', 'CA2', 'GPX1', 'GPX4', 'LDHA', 'NDUFB3', 'ATP6V1D', 'ACOT7', 'HACL1', 'CPOX', 'PTGES2', 'GLUD1', 'COX6A1', 'LTA4H', 'CASP7', 'IL4I1', 'PECR', 'YWHAG', 'IDI1', 'AIFM1', 'NBN', 'HADH', 'PLIN2', 'FDX1', 'NCAPH2', 'IDH1', 'ABCB8', 'TGM2', 'SENP1', 'RAB25', 'CDKN1B', 'EGFR', 'CDKN1A', 'RHOA', 'NFKB1', 'PDK1', 'RPS6KB2', 'TFRC', 'STAT3', 'ARNT', 'CAMK2D', 'RELA', 'ATM', 'BCL2L1', 'BIRC2', 'VCAM1', 'NFKB2', 'KEAP1', 'RIPK1', 'MTDH', 'CHUK', 'MYD88', 'GOLPH3L', 'TOP3B', 'XIAP']\n"
     ]
    }
   ],
   "source": [
    "omics_features=[]\n",
    "phospo_prots = pd.read_excel(\"/mnt/ncshare/ozkilim/BRCA/data/HGSOC_processed_data/mmc3.xlsx\",sheet_name=\"Phospho_predictors\")\n",
    "phospho_features = phospo_prots[\"Phospho predictors\"].to_list()\n",
    "\n",
    "protein_categories = {\n",
    "       \"Drug Metabolism & Biological Oxidation\": [\"TPMT\"],\n",
    "       \"Hemostasis\": [\"CARMIL1\",\"CCDC167\"],\n",
    "       \"Metabolic\": [\n",
    "              \"TALDO1\", \"COX7A2\", \"LGALS1\", \"S100A10\", \"ACADSB\", \"COX6C\", \"COX7C\", \n",
    "              \"CA2\", \"GPX1\", \"GPX4\", \"LDHA\", \"NDUFB3\", \"ATP6V1D\", \"ACOT7\", \"HACL1\", \n",
    "              \"CPOX\", \"PTGES2\", \"GLUD1\", \"COX6A1\", \"LTA4H\", \"CASP7\", \"IL4I1\" , \"PECR\",\n",
    "              \"YWHAG\", \"IDI1\", \"AIFM1\", \"NBN\", \"HADH\", \"PLIN2\", \"FDX1\", \"NCAPH2\", \"IDH1\", \"ABCB8\"\n",
    "       ],\n",
    "       \"Hypoxia\": [\n",
    "              \"TGM2\", \"SENP1\", \"RAB25\", \"CDKN1B\", \"EGFR\", \"CDKN1A\", \"RHOA\", \"NFKB1\", \n",
    "              \"PDK1\", \"RPS6KB2\", \"TFRC\", \"STAT3\", \"ARNT\", \"CAMK2D\"\n",
    "       ],\n",
    "       \"NF-kB\": [\n",
    "              \"RELA\", \"ATM\", \"BCL2L1\", \"BIRC2\", \"VCAM1\", \"NFKB2\", \"KEAP1\", \"RIPK1\", \"MTDH\",\n",
    "              \"CHUK\", \"MYD88\", \"GOLPH3L\", \"TOP3B\", \"XIAP\"\n",
    "       ],\n",
    "       # \"phospho\": phospho_features\n",
    "\n",
    "}\n",
    "\n",
    "\n",
    "prots = []\n",
    "\n",
    "for selected_prots in protein_categories.values():\n",
    "       prots.append(selected_prots)\n",
    "\n",
    "prots = [item for sublist in prots for item in sublist]\n",
    "\n",
    "print(prots)"
   ]
  },
  {
   "cell_type": "code",
   "execution_count": 4,
   "metadata": {},
   "outputs": [],
   "source": [
    "# re run but with subset and splits.. \n",
    "\n",
    "\n",
    "def get_rf_auc_list(split_folder_path):\n",
    "    rf_test_aucs = []\n",
    "    # Loop over split files and create train, val, test subsets\n",
    "    for filename in os.listdir(split_folder_path):\n",
    "        if filename.endswith('.csv'):  # Assuming the files are in CSV format use given format... \n",
    "            \n",
    "            split_df = pd.read_csv(os.path.join(split_folder_path, filename))\n",
    "            # Extract identifiers\n",
    "        \n",
    "            train_df = df[df['slide_id'].isin(split_df[\"train\"].to_list())]\n",
    "            val_df = df[df['slide_id'].isin(split_df[\"val\"].to_list())]\n",
    "            test_df = df[df['slide_id'].isin(split_df[\"test\"].to_list())]\n",
    "\n",
    "            X_train = train_df[prots]  # Replace 'label_column' with your label column name\n",
    "            y_train = train_df['label']  # Replace 'label_column' with your label column name\n",
    "\n",
    "            X_test = test_df[prots]  # Replace 'label_column' with your label column name\n",
    "            y_test = test_df['label']  # Replace 'label_column' with your label column name\n",
    "\n",
    "\n",
    "            # Initialize and train the Random Forest classifier\n",
    "\n",
    "            random_forest = RandomForestRegressor()\n",
    "            elastic_net = ElasticNet()\n",
    "            xgboost_model = XGBRegressor()\n",
    "\n",
    "            ensemble = VotingRegressor(\n",
    "            estimators=[\n",
    "                    ('random_forest', random_forest),\n",
    "                    ('elastic_net', elastic_net),\n",
    "                    ('xgboost', xgboost_model)\n",
    "                ]\n",
    "            )\n",
    "\n",
    "            # rf_clf = RandomForestClassifier()\n",
    "            ensemble.fit(X_train, y_train)\n",
    "\n",
    "            # Make predictions on the test set\n",
    "            rf_pred = ensemble.predict(X_test)\n",
    "            # rf_pred_proba = ensemble.predict_proba(X_test)[:, 1]  # Get probabilities for the positive class\n",
    "\n",
    "            # Evaluate the Random Forest model\n",
    "            # rf_accuracy = accuracy_score(y_test, rf_pred)\n",
    "            rf_roc_auc = roc_auc_score(y_test, rf_pred)\n",
    "            # print(f\"Random Forest ROC AUC: {rf_roc_auc}\")\n",
    "            rf_test_aucs.append(rf_roc_auc)\n",
    "            \n",
    "    # break\n",
    "    return rf_test_aucs\n",
    "\n",
    "\n",
    "split_folder_path = '/mnt/ncshare/ozkilim/BRCA/splits/UAB_' + tissue_type  \n",
    "UAB_aucs = get_rf_auc_list(split_folder_path)\n",
    "split_folder_path = '/mnt/ncshare/ozkilim/BRCA/splits/FHCRC_' + tissue_type\n",
    "FHCRC_aucs = get_rf_auc_list(split_folder_path)\n",
    "split_folder_path = '/mnt/ncshare/ozkilim/BRCA/splits/Mayo_' + tissue_type\n",
    "Mayo_aucs = get_rf_auc_list(split_folder_path)\n",
    "\n",
    "\n",
    "metastatic_results = {\"UAB_aucs_\"+tissue_type:UAB_aucs,\"FHCRC_aucs_\"+tissue_type:FHCRC_aucs,\"Mayo_aucs_\"+tissue_type:Mayo_aucs}\n",
    "\n",
    "with open('../results_analysis/classical_omics_results_'+tissue_type+'.json', 'w') as json_file:\n",
    "    json.dump(metastatic_results, json_file)"
   ]
  }
 ],
 "metadata": {
  "kernelspec": {
   "display_name": "clam",
   "language": "python",
   "name": "python3"
  },
  "language_info": {
   "codemirror_mode": {
    "name": "ipython",
    "version": 3
   },
   "file_extension": ".py",
   "mimetype": "text/x-python",
   "name": "python",
   "nbconvert_exporter": "python",
   "pygments_lexer": "ipython3",
   "version": "3.7.7"
  }
 },
 "nbformat": 4,
 "nbformat_minor": 2
}
