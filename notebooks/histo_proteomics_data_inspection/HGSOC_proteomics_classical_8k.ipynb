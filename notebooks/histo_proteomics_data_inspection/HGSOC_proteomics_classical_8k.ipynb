{
 "cells": [
  {
   "cell_type": "code",
   "execution_count": 1,
   "metadata": {},
   "outputs": [
    {
     "name": "stdout",
     "output_type": "stream",
     "text": [
      "Requirement already satisfied: xgboost in /home/ozkilim/anaconda3/envs/clam/lib/python3.7/site-packages (1.6.2)\n",
      "Requirement already satisfied: numpy in /home/ozkilim/anaconda3/envs/clam/lib/python3.7/site-packages (from xgboost) (1.21.6)\n",
      "Requirement already satisfied: scipy in /home/ozkilim/anaconda3/envs/clam/lib/python3.7/site-packages (from xgboost) (1.7.3)\n"
     ]
    }
   ],
   "source": [
    "import pandas as pd\n",
    "from sklearn.model_selection import train_test_split\n",
    "from sklearn.ensemble import RandomForestClassifier\n",
    "from sklearn.metrics import accuracy_score\n",
    "from sklearn.metrics import accuracy_score, roc_auc_score\n",
    "!pip install xgboost\n",
    "from xgboost import XGBClassifier\n",
    "import numpy as np\n",
    "import os"
   ]
  },
  {
   "cell_type": "code",
   "execution_count": 2,
   "metadata": {},
   "outputs": [
    {
     "name": "stdout",
     "output_type": "stream",
     "text": [
      "8800\n"
     ]
    }
   ],
   "source": [
    "df = pd.read_csv(\"/mnt/ncshare/ozkilim/BRCA/data/FFPE_Discovery_Chowdhury/FFPE_Discovery_normalized.csv\",header=0,low_memory=False)\n",
    "all_prots = df.iloc[:, 1:8801].columns\n",
    "prots = all_prots.to_list()\n",
    "print(len(prots))"
   ]
  },
  {
   "cell_type": "code",
   "execution_count": 3,
   "metadata": {},
   "outputs": [
    {
     "name": "stdout",
     "output_type": "stream",
     "text": [
      "Random Forest Accuracy: 0.75\n",
      "Random Forest ROC AUC: 0.8333333333333333\n",
      "XGBoost Accuracy: 0.6\n",
      "XGBoost ROC AUC: 0.7023809523809523\n"
     ]
    }
   ],
   "source": [
    "# 100 tumors here... \n",
    "df['Tumor.response'] = df['Tumor.response'].map({'sensitive': 1, 'refractory': 0})\n",
    "\n",
    "# Separate features and labels\n",
    "X = df[prots]  # Replace 'label_column' with your label column name\n",
    "y = df['Tumor.response']  # Replace 'label_column' with your label column name\n",
    "\n",
    "# Split the data into an 80-20 train-test split\n",
    "X_train, X_test, y_train, y_test = train_test_split(X, y, test_size=0.2, random_state=42)\n",
    "\n",
    "# Initialize and train the Random Forest classifier\n",
    "rf_clf = RandomForestClassifier()\n",
    "rf_clf.fit(X_train, y_train)\n",
    "\n",
    "# Make predictions on the test set\n",
    "rf_pred = rf_clf.predict(X_test)\n",
    "rf_pred_proba = rf_clf.predict_proba(X_test)[:, 1]  # Get probabilities for the positive class\n",
    "\n",
    "# Evaluate the Random Forest model\n",
    "rf_accuracy = accuracy_score(y_test, rf_pred)\n",
    "rf_roc_auc = roc_auc_score(y_test, rf_pred_proba)\n",
    "print(f\"Random Forest Accuracy: {rf_accuracy}\")\n",
    "print(f\"Random Forest ROC AUC: {rf_roc_auc}\")\n",
    "\n",
    "# Initialize and train the XGBoost classifier\n",
    "xgb_clf = XGBClassifier(use_label_encoder=False, eval_metric='logloss')\n",
    "xgb_clf.fit(X_train, y_train)\n",
    "\n",
    "# Make predictions on the test set\n",
    "xgb_pred = xgb_clf.predict(X_test)\n",
    "xgb_pred_proba = xgb_clf.predict_proba(X_test)[:, 1]  # Get probabilities for the positive class\n",
    "\n",
    "# Evaluate the XGBoost model\n",
    "xgb_accuracy = accuracy_score(y_test, xgb_pred)\n",
    "xgb_roc_auc = roc_auc_score(y_test, xgb_pred_proba)\n",
    "print(f\"XGBoost Accuracy: {xgb_accuracy}\")\n",
    "print(f\"XGBoost ROC AUC: {xgb_roc_auc}\")"
   ]
  },
  {
   "cell_type": "code",
   "execution_count": 4,
   "metadata": {},
   "outputs": [
    {
     "name": "stderr",
     "output_type": "stream",
     "text": [
      "/home/ozkilim/anaconda3/envs/clam/lib/python3.7/site-packages/IPython/core/interactiveshell.py:3331: DtypeWarning: Columns (8807,8811) have mixed types.Specify dtype option on import or set low_memory=False.\n",
      "  exec(code_obj, self.user_global_ns, self.user_ns)\n"
     ]
    }
   ],
   "source": [
    "df = pd.read_csv(\"/mnt/ncshare/ozkilim/BRCA/data/tasks/HGSOC_multimodal_all_prots_oz_merge.csv\")\n",
    "# df['label'] = df['label'].map({'sensitive': 1, 'refractory': 0})"
   ]
  },
  {
   "cell_type": "code",
   "execution_count": 5,
   "metadata": {},
   "outputs": [
    {
     "name": "stdout",
     "output_type": "stream",
     "text": [
      "split\n"
     ]
    },
    {
     "ename": "KeyError",
     "evalue": "\"['ADGRE5', 'ADPRS', 'AMY1C', 'ATP5MJ', 'ATP5MK', 'BBLN', 'BPNT2', 'C11orf58', 'C12orf43', 'C12orf75', 'C15orf48', 'C16orf91', 'C17orf49', 'C17orf97', 'C19orf33', 'C1orf116', 'C1orf35', 'CEP43', 'CRACDL', 'CYRIA', 'CYRIB', 'DYNC2I2', 'ELAPOR1', 'EOLA1', 'GET1', 'GET3', 'GFUS', 'GOLM2', 'H1-10', 'H2AC18', 'H2AC20', 'H2AC21', 'H2AC6', 'H2BC10', 'H2BC18', 'H2BC20P', 'H2BC21', 'H2BS1', 'H2BU1', 'H3-4', 'H3C13', 'H4-16', 'H4C7', 'HARS1', 'IRAG1', 'IRAG2', 'MACROH2A2', 'MIX23', 'MYG1', 'PABIR1', 'PABIR2', 'PEDS1', 'POLR1F', 'POLR1G', 'POLR1H', 'RUSF1', 'STEEP1', 'TRAPPC14', 'UTP25'] not in index\"",
     "output_type": "error",
     "traceback": [
      "\u001b[0;31m---------------------------------------------------------------------------\u001b[0m",
      "\u001b[0;31mKeyError\u001b[0m                                  Traceback (most recent call last)",
      "\u001b[0;32m<ipython-input-5-39bb85957d0d>\u001b[0m in \u001b[0;36m<module>\u001b[0;34m\u001b[0m\n\u001b[1;32m     18\u001b[0m         \u001b[0mtest_df\u001b[0m \u001b[0;34m=\u001b[0m \u001b[0mmerged_df\u001b[0m\u001b[0;34m[\u001b[0m\u001b[0mmerged_df\u001b[0m\u001b[0;34m[\u001b[0m\u001b[0;34m'test'\u001b[0m\u001b[0;34m]\u001b[0m\u001b[0;34m]\u001b[0m\u001b[0;34m\u001b[0m\u001b[0;34m\u001b[0m\u001b[0m\n\u001b[1;32m     19\u001b[0m \u001b[0;34m\u001b[0m\u001b[0m\n\u001b[0;32m---> 20\u001b[0;31m         \u001b[0mX_train\u001b[0m \u001b[0;34m=\u001b[0m \u001b[0mtrain_df\u001b[0m\u001b[0;34m[\u001b[0m\u001b[0mprots\u001b[0m\u001b[0;34m]\u001b[0m  \u001b[0;31m# Replace 'label_column' with your label column name\u001b[0m\u001b[0;34m\u001b[0m\u001b[0;34m\u001b[0m\u001b[0m\n\u001b[0m\u001b[1;32m     21\u001b[0m         \u001b[0my_train\u001b[0m \u001b[0;34m=\u001b[0m \u001b[0mtrain_df\u001b[0m\u001b[0;34m[\u001b[0m\u001b[0;34m'label'\u001b[0m\u001b[0;34m]\u001b[0m  \u001b[0;31m# Replace 'label_column' with your label column name\u001b[0m\u001b[0;34m\u001b[0m\u001b[0;34m\u001b[0m\u001b[0m\n\u001b[1;32m     22\u001b[0m \u001b[0;34m\u001b[0m\u001b[0m\n",
      "\u001b[0;32m~/anaconda3/envs/clam/lib/python3.7/site-packages/pandas/core/frame.py\u001b[0m in \u001b[0;36m__getitem__\u001b[0;34m(self, key)\u001b[0m\n\u001b[1;32m   3462\u001b[0m             \u001b[0;32mif\u001b[0m \u001b[0mis_iterator\u001b[0m\u001b[0;34m(\u001b[0m\u001b[0mkey\u001b[0m\u001b[0;34m)\u001b[0m\u001b[0;34m:\u001b[0m\u001b[0;34m\u001b[0m\u001b[0;34m\u001b[0m\u001b[0m\n\u001b[1;32m   3463\u001b[0m                 \u001b[0mkey\u001b[0m \u001b[0;34m=\u001b[0m \u001b[0mlist\u001b[0m\u001b[0;34m(\u001b[0m\u001b[0mkey\u001b[0m\u001b[0;34m)\u001b[0m\u001b[0;34m\u001b[0m\u001b[0;34m\u001b[0m\u001b[0m\n\u001b[0;32m-> 3464\u001b[0;31m             \u001b[0mindexer\u001b[0m \u001b[0;34m=\u001b[0m \u001b[0mself\u001b[0m\u001b[0;34m.\u001b[0m\u001b[0mloc\u001b[0m\u001b[0;34m.\u001b[0m\u001b[0m_get_listlike_indexer\u001b[0m\u001b[0;34m(\u001b[0m\u001b[0mkey\u001b[0m\u001b[0;34m,\u001b[0m \u001b[0maxis\u001b[0m\u001b[0;34m=\u001b[0m\u001b[0;36m1\u001b[0m\u001b[0;34m)\u001b[0m\u001b[0;34m[\u001b[0m\u001b[0;36m1\u001b[0m\u001b[0;34m]\u001b[0m\u001b[0;34m\u001b[0m\u001b[0;34m\u001b[0m\u001b[0m\n\u001b[0m\u001b[1;32m   3465\u001b[0m \u001b[0;34m\u001b[0m\u001b[0m\n\u001b[1;32m   3466\u001b[0m         \u001b[0;31m# take() does not accept boolean indexers\u001b[0m\u001b[0;34m\u001b[0m\u001b[0;34m\u001b[0m\u001b[0;34m\u001b[0m\u001b[0m\n",
      "\u001b[0;32m~/anaconda3/envs/clam/lib/python3.7/site-packages/pandas/core/indexing.py\u001b[0m in \u001b[0;36m_get_listlike_indexer\u001b[0;34m(self, key, axis)\u001b[0m\n\u001b[1;32m   1312\u001b[0m             \u001b[0mkeyarr\u001b[0m\u001b[0;34m,\u001b[0m \u001b[0mindexer\u001b[0m\u001b[0;34m,\u001b[0m \u001b[0mnew_indexer\u001b[0m \u001b[0;34m=\u001b[0m \u001b[0max\u001b[0m\u001b[0;34m.\u001b[0m\u001b[0m_reindex_non_unique\u001b[0m\u001b[0;34m(\u001b[0m\u001b[0mkeyarr\u001b[0m\u001b[0;34m)\u001b[0m\u001b[0;34m\u001b[0m\u001b[0;34m\u001b[0m\u001b[0m\n\u001b[1;32m   1313\u001b[0m \u001b[0;34m\u001b[0m\u001b[0m\n\u001b[0;32m-> 1314\u001b[0;31m         \u001b[0mself\u001b[0m\u001b[0;34m.\u001b[0m\u001b[0m_validate_read_indexer\u001b[0m\u001b[0;34m(\u001b[0m\u001b[0mkeyarr\u001b[0m\u001b[0;34m,\u001b[0m \u001b[0mindexer\u001b[0m\u001b[0;34m,\u001b[0m \u001b[0maxis\u001b[0m\u001b[0;34m)\u001b[0m\u001b[0;34m\u001b[0m\u001b[0;34m\u001b[0m\u001b[0m\n\u001b[0m\u001b[1;32m   1315\u001b[0m \u001b[0;34m\u001b[0m\u001b[0m\n\u001b[1;32m   1316\u001b[0m         if needs_i8_conversion(ax.dtype) or isinstance(\n",
      "\u001b[0;32m~/anaconda3/envs/clam/lib/python3.7/site-packages/pandas/core/indexing.py\u001b[0m in \u001b[0;36m_validate_read_indexer\u001b[0;34m(self, key, indexer, axis)\u001b[0m\n\u001b[1;32m   1375\u001b[0m \u001b[0;34m\u001b[0m\u001b[0m\n\u001b[1;32m   1376\u001b[0m             \u001b[0mnot_found\u001b[0m \u001b[0;34m=\u001b[0m \u001b[0mlist\u001b[0m\u001b[0;34m(\u001b[0m\u001b[0mensure_index\u001b[0m\u001b[0;34m(\u001b[0m\u001b[0mkey\u001b[0m\u001b[0;34m)\u001b[0m\u001b[0;34m[\u001b[0m\u001b[0mmissing_mask\u001b[0m\u001b[0;34m.\u001b[0m\u001b[0mnonzero\u001b[0m\u001b[0;34m(\u001b[0m\u001b[0;34m)\u001b[0m\u001b[0;34m[\u001b[0m\u001b[0;36m0\u001b[0m\u001b[0;34m]\u001b[0m\u001b[0;34m]\u001b[0m\u001b[0;34m.\u001b[0m\u001b[0munique\u001b[0m\u001b[0;34m(\u001b[0m\u001b[0;34m)\u001b[0m\u001b[0;34m)\u001b[0m\u001b[0;34m\u001b[0m\u001b[0;34m\u001b[0m\u001b[0m\n\u001b[0;32m-> 1377\u001b[0;31m             \u001b[0;32mraise\u001b[0m \u001b[0mKeyError\u001b[0m\u001b[0;34m(\u001b[0m\u001b[0;34mf\"{not_found} not in index\"\u001b[0m\u001b[0;34m)\u001b[0m\u001b[0;34m\u001b[0m\u001b[0;34m\u001b[0m\u001b[0m\n\u001b[0m\u001b[1;32m   1378\u001b[0m \u001b[0;34m\u001b[0m\u001b[0m\n\u001b[1;32m   1379\u001b[0m \u001b[0;34m\u001b[0m\u001b[0m\n",
      "\u001b[0;31mKeyError\u001b[0m: \"['ADGRE5', 'ADPRS', 'AMY1C', 'ATP5MJ', 'ATP5MK', 'BBLN', 'BPNT2', 'C11orf58', 'C12orf43', 'C12orf75', 'C15orf48', 'C16orf91', 'C17orf49', 'C17orf97', 'C19orf33', 'C1orf116', 'C1orf35', 'CEP43', 'CRACDL', 'CYRIA', 'CYRIB', 'DYNC2I2', 'ELAPOR1', 'EOLA1', 'GET1', 'GET3', 'GFUS', 'GOLM2', 'H1-10', 'H2AC18', 'H2AC20', 'H2AC21', 'H2AC6', 'H2BC10', 'H2BC18', 'H2BC20P', 'H2BC21', 'H2BS1', 'H2BU1', 'H3-4', 'H3C13', 'H4-16', 'H4C7', 'HARS1', 'IRAG1', 'IRAG2', 'MACROH2A2', 'MIX23', 'MYG1', 'PABIR1', 'PABIR2', 'PEDS1', 'POLR1F', 'POLR1G', 'POLR1H', 'RUSF1', 'STEEP1', 'TRAPPC14', 'UTP25'] not in index\""
     ]
    }
   ],
   "source": [
    "# re run but with subset and splits.. \n",
    "\n",
    "split_folder_path = '/mnt/ncshare/ozkilim/BRCA/splits/HGSOC_multimodal_100'  # Replace with your actual folder path\n",
    "\n",
    "\n",
    "rf_test_aucs = []\n",
    "# Loop over split files and create train, val, test subsets\n",
    "for filename in os.listdir(split_folder_path):\n",
    "    if filename.endswith('bool.csv'):  # Assuming the files are in CSV format\n",
    "        print(\"split\")\n",
    "        split_df = pd.read_csv(os.path.join(split_folder_path, filename))\n",
    "        # Extract identifiers\n",
    "        merged_df = pd.merge(df, split_df, left_on='slide_id', right_on='Unnamed: 0')\n",
    "\n",
    "        # Create train, validation, and test sets\n",
    "        train_df = merged_df[merged_df['train']]\n",
    "        val_df = merged_df[merged_df['val']]\n",
    "        test_df = merged_df[merged_df['test']]\n",
    "\n",
    "        X_train = train_df[prots]  # Replace 'label_column' with your label column name\n",
    "        y_train = train_df['label']  # Replace 'label_column' with your label column name\n",
    "\n",
    "        X_test = test_df[prots]  # Replace 'label_column' with your label column name\n",
    "        y_test = test_df['label']  # Replace 'label_column' with your label column name\n",
    "\n",
    "\n",
    "        # Initialize and train the Random Forest classifier\n",
    "        rf_clf = RandomForestClassifier()\n",
    "        rf_clf.fit(X_train, y_train)\n",
    "\n",
    "        # Make predictions on the test set\n",
    "        rf_pred = rf_clf.predict(X_test)\n",
    "        rf_pred_proba = rf_clf.predict_proba(X_test)[:, 1]  # Get probabilities for the positive class\n",
    "\n",
    "        # Evaluate the Random Forest model\n",
    "        rf_accuracy = accuracy_score(y_test, rf_pred)\n",
    "        rf_roc_auc = roc_auc_score(y_test, rf_pred_proba)\n",
    "        print(f\"Random Forest ROC AUC: {rf_roc_auc}\")\n",
    "        rf_test_aucs.append(rf_roc_auc)\n",
    "        \n",
    "    # break\n",
    "rf_test_aucs = np.array(rf_test_aucs)\n",
    "print(rf_test_aucs)\n",
    "print(np.mean(rf_test_aucs))"
   ]
  },
  {
   "cell_type": "code",
   "execution_count": null,
   "metadata": {},
   "outputs": [],
   "source": []
  }
 ],
 "metadata": {
  "kernelspec": {
   "display_name": "clam",
   "language": "python",
   "name": "python3"
  },
  "language_info": {
   "codemirror_mode": {
    "name": "ipython",
    "version": 3
   },
   "file_extension": ".py",
   "mimetype": "text/x-python",
   "name": "python",
   "nbconvert_exporter": "python",
   "pygments_lexer": "ipython3",
   "version": "3.7.7"
  }
 },
 "nbformat": 4,
 "nbformat_minor": 2
}
