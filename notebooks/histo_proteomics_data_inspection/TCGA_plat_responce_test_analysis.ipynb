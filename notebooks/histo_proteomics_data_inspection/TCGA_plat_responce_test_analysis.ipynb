{
 "cells": [
  {
   "cell_type": "code",
   "execution_count": 1,
   "metadata": {},
   "outputs": [],
   "source": [
    "import pandas as pd\n"
   ]
  },
  {
   "cell_type": "markdown",
   "metadata": {},
   "source": [
    "#### Take eval test results and seperate by slide type and get AUC for each slide type"
   ]
  },
  {
   "cell_type": "code",
   "execution_count": 2,
   "metadata": {},
   "outputs": [
    {
     "name": "stdout",
     "output_type": "stream",
     "text": [
      "fold_2.csv\n",
      "Group: BS1, AUC: 0.5871951219512196, F1 Score: 0.773109243697479\n",
      "Group: BS2, AUC: 0.7222222222222223, F1 Score: 0.8333333333333334\n",
      "Group: DX1, AUC: 0.65625, F1 Score: 0.4444444444444444\n",
      "Group: TS1, AUC: 0.672496025437202, F1 Score: 0.7177033492822966\n",
      "summary.csv\n",
      "fold_4.csv\n",
      "Group: BS1, AUC: 0.5666666666666667, F1 Score: 0.6936936936936937\n",
      "Group: BS2, AUC: 0.7222222222222223, F1 Score: 0.8333333333333334\n",
      "Group: DX1, AUC: 0.5, F1 Score: 0.35294117647058826\n",
      "Group: TS1, AUC: 0.5932318873495344, F1 Score: 0.6699507389162561\n",
      "fold_3.csv\n",
      "Group: BS1, AUC: 0.6378048780487805, F1 Score: 0.7586206896551725\n",
      "Group: BS2, AUC: 0.6666666666666667, F1 Score: 0.7692307692307692\n",
      "Group: DX1, AUC: 0.65625, F1 Score: 0.5263157894736842\n",
      "Group: TS1, AUC: 0.6747672041789688, F1 Score: 0.7476635514018692\n",
      "fold_0.csv\n",
      "Group: BS1, AUC: 0.5750000000000001, F1 Score: 0.7296137339055793\n",
      "Group: BS2, AUC: 0.8333333333333334, F1 Score: 0.8333333333333334\n",
      "Group: DX1, AUC: 0.5729166666666666, F1 Score: 0.3333333333333333\n",
      "Group: TS1, AUC: 0.592777651601181, F1 Score: 0.7387387387387387\n",
      "fold_1.csv\n",
      "Group: BS1, AUC: 0.5827235772357724, F1 Score: 0.6542056074766355\n",
      "Group: BS2, AUC: 0.6111111111111113, F1 Score: 0.8333333333333334\n",
      "Group: DX1, AUC: 0.6145833333333333, F1 Score: 0.35294117647058826\n",
      "Group: TS1, AUC: 0.6575062457415398, F1 Score: 0.6733668341708542\n"
     ]
    }
   ],
   "source": [
    "import os\n",
    "import pandas as pd\n",
    "from sklearn.metrics import roc_auc_score, f1_score\n",
    "\n",
    "def process_csv(file_path):\n",
    "    # Read the CSV file\n",
    "    # Read the CSV file\n",
    "    df = pd.read_csv(file_path)\n",
    "\n",
    "    # Extract the substring (e.g., 'TS1') from the 'slide_id' column\n",
    "    df['extracted_substring'] = df['slide_id'].str.split('-').str[5]\n",
    "    df['extracted_substring'] = df['extracted_substring'].str.split(\".\").str[0]\n",
    "    # Group by the extracted substring\n",
    "    grouped = df.groupby('extracted_substring')\n",
    "\n",
    "    # Iterate over each group and calculate AUC\n",
    "    for group, data in grouped:\n",
    "        # print(data.iloc[0][\"extracted_substring\"])\n",
    "        auc = roc_auc_score(data['Y'], data['p_1'])\n",
    "        y_pred_binary = data['p_1'] > 0.5\n",
    "        f1 = f1_score(data['Y'], y_pred_binary)\n",
    "\n",
    "        print(f\"Group: {group}, AUC: {auc}, F1 Score: {f1}\")\n",
    "\n",
    "\n",
    "\n",
    "# Path to the folder containing the CSV files\n",
    "folder_path = '/mnt/ncshare/ozkilim/BRCA/eval_results/EVAL_TCGA_OV_platinum_multimodal_SurvPath_OV_ViT_UAB_primary'\n",
    "\n",
    "# List and process each CSV file in the folder\n",
    "for filename in os.listdir(folder_path):\n",
    "    if filename.endswith('.csv'):\n",
    "        print(filename)\n",
    "        try:\n",
    "            file_path = os.path.join(folder_path, filename)\n",
    "            process_csv(file_path)\n",
    "        except:\n",
    "            pass\n",
    "\n",
    "\n",
    "# DX1 is actually has some signal!..."
   ]
  },
  {
   "cell_type": "code",
   "execution_count": 3,
   "metadata": {},
   "outputs": [
    {
     "ename": "SyntaxError",
     "evalue": "invalid syntax (<ipython-input-3-74566900a22b>, line 1)",
     "output_type": "error",
     "traceback": [
      "\u001b[0;36m  File \u001b[0;32m\"<ipython-input-3-74566900a22b>\"\u001b[0;36m, line \u001b[0;32m1\u001b[0m\n\u001b[0;31m    get list of aucs for just DX1\u001b[0m\n\u001b[0m           ^\u001b[0m\n\u001b[0;31mSyntaxError\u001b[0m\u001b[0;31m:\u001b[0m invalid syntax\n"
     ]
    }
   ],
   "source": [
    "\n",
    "get list of aucs for just DX1\n",
    "\n"
   ]
  }
 ],
 "metadata": {
  "kernelspec": {
   "display_name": "clam",
   "language": "python",
   "name": "python3"
  },
  "language_info": {
   "codemirror_mode": {
    "name": "ipython",
    "version": 3
   },
   "file_extension": ".py",
   "mimetype": "text/x-python",
   "name": "python",
   "nbconvert_exporter": "python",
   "pygments_lexer": "ipython3",
   "version": "3.7.7"
  }
 },
 "nbformat": 4,
 "nbformat_minor": 2
}
