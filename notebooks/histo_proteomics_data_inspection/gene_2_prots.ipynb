{
 "cells": [
  {
   "cell_type": "code",
   "execution_count": 3,
   "metadata": {},
   "outputs": [
    {
     "name": "stdout",
     "output_type": "stream",
     "text": [
      "Collecting biopython\n",
      "  Downloading biopython-1.81-cp37-cp37m-manylinux_2_17_x86_64.manylinux2014_x86_64.whl (3.0 MB)\n",
      "\u001b[K     |████████████████████████████████| 3.0 MB 8.9 MB/s eta 0:00:01\n",
      "\u001b[?25hRequirement already satisfied: numpy in /home/ozkilim/anaconda3/envs/clam/lib/python3.7/site-packages (from biopython) (1.21.6)\n",
      "Installing collected packages: biopython\n",
      "Successfully installed biopython-1.81\n",
      "['77020291', '30466260', '148227230', '2255448093', '2255446638', '2255444941', '2255444288', '2255444251', '2250232355', '2250017381', '2250017351', '2250017282', '2250017141', '2249629879', '2249629791', '2249007158', '2248537882', '161016835', '2423790636', '2423790634']\n"
     ]
    }
   ],
   "source": [
    "!pip install biopython\n",
    "\n",
    "from Bio import Entrez\n",
    "\n",
    "def search_proteins_for_gene(gene_name):\n",
    "    Entrez.email = \"your.email@example.com\"  # Provide your email\n",
    "    search_term = f\"{gene_name}[Gene Name]\"\n",
    "    \n",
    "    handle = Entrez.esearch(db=\"protein\", term=search_term)\n",
    "    record = Entrez.read(handle)\n",
    "    handle.close()\n",
    "\n",
    "    protein_ids = record['IdList']\n",
    "    return protein_ids\n",
    "\n",
    "# Example usage\n",
    "gene_name = \"BRCA1\"  # Replace with your gene of interest\n",
    "protein_ids = search_proteins_for_gene(gene_name)\n",
    "print(protein_ids)"
   ]
  },
  {
   "cell_type": "code",
   "execution_count": 12,
   "metadata": {},
   "outputs": [
    {
     "name": "stdout",
     "output_type": "stream",
     "text": [
      "{'Count': '1184', 'RetMax': '20', 'RetStart': '0', 'IdList': ['2255448093', '2255446638', '2255444941', '2255444288', '2255444251', '2250232355', '2250017381', '2250017351', '2250017282', '2250017141', '2249629879', '2249629791', '2249007158', '2248537882', '2468373407', '2468373377', '2468373259', '2468373236', '2624781110', '2624781108'], 'TranslationSet': [{'From': 'Homo sapiens[Organism]', 'To': '\"Homo sapiens\"[Organism]'}], 'TranslationStack': [{'Term': 'BRCA1[Gene Name]', 'Field': 'Gene Name', 'Count': '8799', 'Explode': 'N'}, {'Term': '\"Homo sapiens\"[Organism]', 'Field': 'Organism', 'Count': '1938067', 'Explode': 'Y'}, 'AND'], 'QueryTranslation': 'BRCA1[Gene Name] AND \"Homo sapiens\"[Organism]'}\n",
      "2255448093\n"
     ]
    },
    {
     "ename": "TypeError",
     "evalue": "list indices must be integers or slices, not str",
     "output_type": "error",
     "traceback": [
      "\u001b[0;31m---------------------------------------------------------------------------\u001b[0m",
      "\u001b[0;31mTypeError\u001b[0m                                 Traceback (most recent call last)",
      "\u001b[0;32m<ipython-input-12-9f0a26d11afa>\u001b[0m in \u001b[0;36m<module>\u001b[0;34m\u001b[0m\n\u001b[1;32m     26\u001b[0m \u001b[0;31m# Example usage\u001b[0m\u001b[0;34m\u001b[0m\u001b[0;34m\u001b[0m\u001b[0;34m\u001b[0m\u001b[0m\n\u001b[1;32m     27\u001b[0m \u001b[0mgene_name\u001b[0m \u001b[0;34m=\u001b[0m \u001b[0;34m\"BRCA1\"\u001b[0m  \u001b[0;31m# Replace with your gene of interest\u001b[0m\u001b[0;34m\u001b[0m\u001b[0;34m\u001b[0m\u001b[0m\n\u001b[0;32m---> 28\u001b[0;31m \u001b[0mprotein_symbols\u001b[0m \u001b[0;34m=\u001b[0m \u001b[0msearch_proteins_for_gene\u001b[0m\u001b[0;34m(\u001b[0m\u001b[0mgene_name\u001b[0m\u001b[0;34m)\u001b[0m\u001b[0;34m\u001b[0m\u001b[0;34m\u001b[0m\u001b[0m\n\u001b[0m\u001b[1;32m     29\u001b[0m \u001b[0mprint\u001b[0m\u001b[0;34m(\u001b[0m\u001b[0mprotein_symbols\u001b[0m\u001b[0;34m)\u001b[0m\u001b[0;34m\u001b[0m\u001b[0;34m\u001b[0m\u001b[0m\n",
      "\u001b[0;32m<ipython-input-12-9f0a26d11afa>\u001b[0m in \u001b[0;36msearch_proteins_for_gene\u001b[0;34m(gene_name)\u001b[0m\n\u001b[1;32m     18\u001b[0m         \u001b[0mprint\u001b[0m\u001b[0;34m(\u001b[0m\u001b[0mprotein_id\u001b[0m\u001b[0;34m)\u001b[0m\u001b[0;34m\u001b[0m\u001b[0;34m\u001b[0m\u001b[0m\n\u001b[1;32m     19\u001b[0m         \u001b[0;31m# Extract the protein symbol (title)\u001b[0m\u001b[0;34m\u001b[0m\u001b[0;34m\u001b[0m\u001b[0;34m\u001b[0m\u001b[0m\n\u001b[0;32m---> 20\u001b[0;31m         \u001b[0;32mfor\u001b[0m \u001b[0msummary_item\u001b[0m \u001b[0;32min\u001b[0m \u001b[0msummary\u001b[0m\u001b[0;34m[\u001b[0m\u001b[0;34m'DocumentSummarySet'\u001b[0m\u001b[0;34m]\u001b[0m\u001b[0;34m[\u001b[0m\u001b[0;34m'DocumentSummary'\u001b[0m\u001b[0;34m]\u001b[0m\u001b[0;34m:\u001b[0m\u001b[0;34m\u001b[0m\u001b[0;34m\u001b[0m\u001b[0m\n\u001b[0m\u001b[1;32m     21\u001b[0m             \u001b[0mprint\u001b[0m\u001b[0;34m(\u001b[0m\u001b[0msummary_item\u001b[0m\u001b[0;34m)\u001b[0m\u001b[0;34m\u001b[0m\u001b[0;34m\u001b[0m\u001b[0m\n\u001b[1;32m     22\u001b[0m             \u001b[0mprotein_symbols\u001b[0m\u001b[0;34m.\u001b[0m\u001b[0mappend\u001b[0m\u001b[0;34m(\u001b[0m\u001b[0msummary_item\u001b[0m\u001b[0;34m[\u001b[0m\u001b[0;34m'Title'\u001b[0m\u001b[0;34m]\u001b[0m\u001b[0;34m)\u001b[0m\u001b[0;34m\u001b[0m\u001b[0;34m\u001b[0m\u001b[0m\n",
      "\u001b[0;31mTypeError\u001b[0m: list indices must be integers or slices, not str"
     ]
    }
   ],
   "source": [
    "\n",
    "def search_proteins_for_gene(gene_name):\n",
    "    Entrez.email = \"your.email@example.com\"  # Provide your email\n",
    "    search_term = f\"{gene_name}[Gene Name] AND Homo sapiens[Organism]\"\n",
    "\n",
    "    # Search for protein IDs\n",
    "    handle = Entrez.esearch(db=\"protein\", term=search_term)\n",
    "    record = Entrez.read(handle)\n",
    "    handle.close()\n",
    "    print(record)\n",
    "    protein_ids = record['IdList']\n",
    "    protein_symbols = []\n",
    "\n",
    "    # Fetch details for each protein ID\n",
    "    for protein_id in protein_ids:\n",
    "        handle = Entrez.esummary(db=\"protein\", id=protein_id)\n",
    "        summary = Entrez.read(handle)\n",
    "        handle.close()\n",
    "        print(protein_id)\n",
    "        # Extract the protein symbol (title)\n",
    "        for summary_item in summary['DocumentSummarySet']['DocumentSummary']:\n",
    "            print(summary_item)\n",
    "            protein_symbols.append(summary_item['Title'])\n",
    "\n",
    "    return protein_symbols\n",
    "\n",
    "# Example usage\n",
    "gene_name = \"BRCA1\"  # Replace with your gene of interest\n",
    "protein_symbols = search_proteins_for_gene(gene_name)\n",
    "print(protein_symbols)"
   ]
  },
  {
   "cell_type": "code",
   "execution_count": 14,
   "metadata": {},
   "outputs": [
    {
     "name": "stdout",
     "output_type": "stream",
     "text": [
      "[]\n"
     ]
    }
   ],
   "source": [
    "from Bio import Entrez\n",
    "\n",
    "def entrez_ids_to_symbols(entrez_ids):\n",
    "    Entrez.email = \"your.email@example.com\"  # Provide your email\n",
    "    symbols = []\n",
    "\n",
    "    for entrez_id in entrez_ids:\n",
    "        handle = Entrez.esummary(db=\"protein\", id=entrez_id)\n",
    "        summary = Entrez.read(handle)\n",
    "        handle.close()\n",
    "\n",
    "        if summary and 'DocumentSummarySet' in summary and 'DocumentSummary' in summary['DocumentSummarySet']:\n",
    "            for doc_summary in summary['DocumentSummarySet']['DocumentSummary']:\n",
    "                if 'Title' in doc_summary:\n",
    "                    symbols.append(doc_summary['Title'])\n",
    "\n",
    "    return symbols\n",
    "\n",
    "# Example usage\n",
    "entrez_ids = [\"2255448093\"]  # Replace with your list of Entrez IDs\n",
    "protein_symbols = entrez_ids_to_symbols(entrez_ids)\n",
    "print(protein_symbols)\n"
   ]
  },
  {
   "cell_type": "code",
   "execution_count": null,
   "metadata": {},
   "outputs": [],
   "source": []
  }
 ],
 "metadata": {
  "kernelspec": {
   "display_name": "clam",
   "language": "python",
   "name": "python3"
  },
  "language_info": {
   "codemirror_mode": {
    "name": "ipython",
    "version": 3
   },
   "file_extension": ".py",
   "mimetype": "text/x-python",
   "name": "python",
   "nbconvert_exporter": "python",
   "pygments_lexer": "ipython3",
   "version": "3.7.7"
  }
 },
 "nbformat": 4,
 "nbformat_minor": 2
}
