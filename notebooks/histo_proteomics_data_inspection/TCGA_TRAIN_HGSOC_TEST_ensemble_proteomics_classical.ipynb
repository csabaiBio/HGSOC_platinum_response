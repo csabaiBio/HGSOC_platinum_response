{
 "cells": [
  {
   "cell_type": "code",
   "execution_count": 1,
   "metadata": {},
   "outputs": [],
   "source": [
    "import pandas as pd\n",
    "from sklearn.model_selection import train_test_split\n",
    "from sklearn.ensemble import RandomForestClassifier\n",
    "from sklearn.metrics import accuracy_score\n",
    "from sklearn.metrics import accuracy_score, roc_auc_score\n",
    "import numpy as np\n",
    "import os \n",
    "from sklearn.ensemble import RandomForestRegressor, VotingRegressor\n",
    "from sklearn.linear_model import ElasticNet\n",
    "from xgboost import XGBRegressor\n",
    "from sklearn.ensemble import VotingClassifier\n",
    "import json"
   ]
  },
  {
   "cell_type": "markdown",
   "metadata": {},
   "source": [
    "### Trian proteomic data 60 signatures TCGA test. Test on HGSOC"
   ]
  },
  {
   "cell_type": "code",
   "execution_count": 2,
   "metadata": {},
   "outputs": [
    {
     "data": {
      "text/plain": [
       "0      0\n",
       "1      0\n",
       "2      1\n",
       "3      1\n",
       "4      1\n",
       "      ..\n",
       "691    1\n",
       "692    1\n",
       "693    1\n",
       "694    1\n",
       "695    1\n",
       "Name: label, Length: 696, dtype: int64"
      ]
     },
     "execution_count": 2,
     "metadata": {},
     "output_type": "execute_result"
    }
   ],
   "source": [
    "tissue_type = \"primary\"\n",
    "\n",
    "df = pd.read_csv(\"/mnt/ncshare/ozkilim/BRCA/data/tasks/HGSOC_TCGA_merged_all.csv\",header=0,low_memory=False)\n",
    "df[\"label\"]"
   ]
  },
  {
   "cell_type": "code",
   "execution_count": 3,
   "metadata": {},
   "outputs": [],
   "source": [
    "#60 overlapping signature prots.\n",
    "\n",
    "prots = ['RAB25', 'BCL2L1', 'HADH', 'NFKB2', 'COX7A2', 'COX7C', 'TPMT', 'GOLPH3L', 'LTA4H', 'COX6C', 'IDH1', 'YWHAG', 'S100A10', 'COX6A1', 'NDUFB3', 'TGM2', 'CDKN1B', 'NFKB1', 'CAMK2D', 'IL4I1', 'FDX1', 'VCAM1', 'ATM', 'NCAPH2', 'ABCB8', 'IDI1', 'PLIN2', 'ATP6V1D', 'GPX4', 'CA2', 'RELA', 'GLUD1', 'TOP3B', 'RPS6KB2', 'KEAP1', 'LGALS1', 'MTDH', 'AIFM1', 'RHOA', 'CASP7', 'PTGES2', 'TFRC', 'CHUK', 'GPX1', 'PDK1', 'STAT3', 'PECR', 'TALDO1', 'XIAP', 'ACADSB', 'CPOX', 'ARNT', 'BIRC2', 'ACOT7', 'HACL1', 'MYD88', 'EGFR', 'RIPK1', 'NBN', 'LDHA']\n"
   ]
  },
  {
   "cell_type": "code",
   "execution_count": 4,
   "metadata": {},
   "outputs": [
    {
     "name": "stdout",
     "output_type": "stream",
     "text": [
      "[0.7100547536087606, 0.7033527696793003, 0.6703081232492998, 0.6690514043455219, 0.664147993746743]\n",
      "[0.5418935902806871, 0.533922697368421, 0.5753164556962025, 0.4875998318621269, 0.5301668806161746]\n"
     ]
    }
   ],
   "source": [
    "\n",
    "\n",
    "def get_rf_auc_list(split_folder_path):\n",
    "    rf_test_aucs = []\n",
    "    # Loop over split files and create train, val, test subsets\n",
    "    for filename in os.listdir(split_folder_path):\n",
    "        if filename.endswith('.csv'):  # Assuming the files are in CSV format use given format... \n",
    "            \n",
    "            split_df = pd.read_csv(os.path.join(split_folder_path, filename))\n",
    "            # Extract identifiers\n",
    "        \n",
    "            train_df = df[df['slide_id'].isin(split_df[\"test\"].to_list())] \n",
    "            val_df = df[df['slide_id'].isin(split_df[\"val\"].to_list())]\n",
    "            test_df = df[df['slide_id'].isin(split_df[\"train\"].to_list())] #swapped test and train...\n",
    "\n",
    "\n",
    "            X_train = train_df[prots]  # Replace 'label_column' with your label column name\n",
    "            y_train = train_df['label']  # Replace 'label_column' with your label column name\n",
    "\n",
    "            X_test = test_df[prots]  # Replace 'label_column' with your label column name\n",
    "            y_test = test_df['label']  # Replace 'label_column' with your label column name\n",
    "\n",
    "\n",
    "            # Initialize and train the Random Forest classifier\n",
    "\n",
    "            random_forest = RandomForestRegressor()\n",
    "            elastic_net = ElasticNet()\n",
    "            xgboost_model = XGBRegressor()\n",
    "\n",
    "            ensemble = VotingRegressor(\n",
    "            estimators=[\n",
    "                    ('random_forest', random_forest),\n",
    "                    ('elastic_net', elastic_net),\n",
    "                    ('xgboost', xgboost_model)\n",
    "                ]\n",
    "            )\n",
    "\n",
    "            # rf_clf = RandomForestClassifier()\n",
    "            ensemble.fit(X_train, y_train)\n",
    "\n",
    "            # Make predictions on the test set\n",
    "            rf_pred = ensemble.predict(X_test)\n",
    "            # rf_pred_proba = ensemble.predict_proba(X_test)[:, 1]  # Get probabilities for the positive class\n",
    "\n",
    "            # Evaluate the Random Forest model\n",
    "            # rf_accuracy = accuracy_score(y_test, rf_pred)\n",
    "            rf_roc_auc = roc_auc_score(y_test, rf_pred)\n",
    "            # print(f\"Random Forest ROC AUC: {rf_roc_auc}\")\n",
    "            rf_test_aucs.append(rf_roc_auc)\n",
    "            \n",
    "    # break\n",
    "    return rf_test_aucs\n",
    "\n",
    "\n",
    "split_folder_path = '/mnt/ncshare/ozkilim/BRCA/splits/TCGA_primary' \n",
    "primary_aucs = get_rf_auc_list(split_folder_path)\n",
    "print(primary_aucs)\n",
    "\n",
    "split_folder_path = '/mnt/ncshare/ozkilim/BRCA/splits/TCGA_metastatic' # working very poorly here...? \n",
    "metastatic_aucs = get_rf_auc_list(split_folder_path)\n",
    "print(metastatic_aucs)\n",
    "\n",
    "\n",
    "metastatic_results = {\"primary_aucs\":primary_aucs,\"metastatic_aucs\":metastatic_aucs}\n",
    "\n",
    "with open('../results_analysis/TCGA_train_HGSOC_Test_classical_omics_results_'+tissue_type+'.json', 'w') as json_file:\n",
    "    json.dump(metastatic_results, json_file)\n",
    "\n"
   ]
  }
 ],
 "metadata": {
  "kernelspec": {
   "display_name": "clam",
   "language": "python",
   "name": "python3"
  },
  "language_info": {
   "codemirror_mode": {
    "name": "ipython",
    "version": 3
   },
   "file_extension": ".py",
   "mimetype": "text/x-python",
   "name": "python",
   "nbconvert_exporter": "python",
   "pygments_lexer": "ipython3",
   "version": "3.7.7"
  }
 },
 "nbformat": 4,
 "nbformat_minor": 2
}
