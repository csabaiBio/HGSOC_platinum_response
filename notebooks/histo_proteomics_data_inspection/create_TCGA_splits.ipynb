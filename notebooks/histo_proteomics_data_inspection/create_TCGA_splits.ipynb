{
 "cells": [
  {
   "cell_type": "code",
   "execution_count": 1,
   "metadata": {},
   "outputs": [],
   "source": [
    "import pandas as pd\n",
    "import os\n",
    "from sklearn.model_selection import KFold"
   ]
  },
  {
   "cell_type": "markdown",
   "metadata": {},
   "source": [
    "#### Mix all 3 hospitals as train with 5 fold Cross val. Then use TCGA as test in the df."
   ]
  },
  {
   "cell_type": "code",
   "execution_count": 4,
   "metadata": {},
   "outputs": [
    {
     "name": "stdout",
     "output_type": "stream",
     "text": [
      "348\n",
      "348\n",
      "348\n",
      "348\n",
      "348\n",
      "Split files created successfully.\n"
     ]
    }
   ],
   "source": [
    "\n",
    "# Load your main CSV file (replace with the actual file path)\n",
    "main_df = pd.read_csv('/mnt/ncshare/ozkilim/BRCA/data/tasks/HGSOC_multimodal_metastatic_protein_and_phospho.csv')\n",
    "\n",
    "# Focus on the 'Sample source' and 'slide_id' columns\n",
    "data = main_df[['Sample Source', 'slide_id']]\n",
    "\n",
    "# Get unique sample sources\n",
    "sample_sources = data['Sample Source'].unique()\n",
    "\n",
    "# Create a KFold object for 5 folds\n",
    "kf = KFold(n_splits=5, shuffle=True, random_state=42)\n",
    "\n",
    "# Directory to store split files\n",
    "split_dir = 'split_files'\n",
    "os.makedirs(split_dir, exist_ok=True)\n",
    "\n",
    "# Iterate over each sample source to create split files\n",
    "# Filter data for cross-validation and test sets\n",
    "cv_data = data['slide_id']\n",
    "TCGA_data = pd.read_csv('/mnt/ncshare/ozkilim/BRCA/data/tasks/TCGA_platinum_reposnce_test_set.csv')# load tcga data #\n",
    "test_data = TCGA_data['slide_id']\n",
    "# Apply 5-fold cross-validation\n",
    "for fold, (train_index, val_index) in enumerate(kf.split(cv_data)):\n",
    "    # Extract train, val, and test slide IDs\n",
    "    train_ids = cv_data.iloc[train_index].tolist()\n",
    "    val_ids = cv_data.iloc[val_index].tolist()\n",
    "    test_ids = test_data.tolist()\n",
    "\n",
    "    # Determine the maximum length among train, val, and test lists\n",
    "    max_len = max(len(train_ids), len(val_ids), len(test_ids))\n",
    "\n",
    "    # Extend lists to have the same length\n",
    "    train_ids.extend([\"\"] * (max_len - len(train_ids)))\n",
    "    val_ids.extend([\"\"] * (max_len - len(val_ids)))\n",
    "    test_ids.extend([\"\"] * (max_len - len(test_ids)))\n",
    "\n",
    "    # Create the split DataFrame\n",
    "    split_df = pd.DataFrame({'train': train_ids[:max_len], 'val': val_ids[:max_len], 'test': test_ids[:max_len]})\n",
    "\n",
    "    # Save the split file\n",
    "    split_filename = f'/mnt/ncshare/ozkilim/BRCA/splits/TCGA_metastatic/splits_{fold}.csv'\n",
    "    # split_filepath = os.path.join(split_dir, split_filename)\n",
    "    split_df.to_csv(split_filename, index=True)\n",
    "\n",
    "print(\"Split files created successfully.\")"
   ]
  },
  {
   "cell_type": "code",
   "execution_count": 4,
   "metadata": {},
   "outputs": [
    {
     "name": "stderr",
     "output_type": "stream",
     "text": [
      "/home/ozkilim/anaconda3/envs/clam/lib/python3.7/site-packages/IPython/core/interactiveshell.py:3331: DtypeWarning: Columns (8807,8811) have mixed types.Specify dtype option on import or set low_memory=False.\n",
      "  exec(code_obj, self.user_global_ns, self.user_ns)\n"
     ]
    }
   ],
   "source": [
    "# Create merged csv file for getting labels and omics data \n",
    "\n",
    "HGSCO_main = pd.read_csv(\"/mnt/ncshare/ozkilim/BRCA/data/tasks/HGSOC_multimodal_protein_and_phospho.csv\")\n",
    "\n",
    "# merge together with common columns... \n",
    "\n",
    "common_columns = HGSCO_main.columns.intersection(TCGA_data.columns)\n",
    "# Select only common columns from both dataframes\n",
    "HGSCO_main = HGSCO_main[common_columns]\n",
    "TCGA_data = TCGA_data[common_columns]\n",
    "\n",
    "# Concatenate the rows\n",
    "combined_df = pd.concat([HGSCO_main, TCGA_data], ignore_index=True)\n"
   ]
  },
  {
   "cell_type": "code",
   "execution_count": 8,
   "metadata": {},
   "outputs": [],
   "source": [
    "combined_df.to_csv(\"/mnt/ncshare/ozkilim/BRCA/data/tasks/HGSOC_TCGA_merged_all.csv\",index=None)"
   ]
  },
  {
   "cell_type": "code",
   "execution_count": null,
   "metadata": {},
   "outputs": [],
   "source": []
  }
 ],
 "metadata": {
  "kernelspec": {
   "display_name": "clam",
   "language": "python",
   "name": "python3"
  },
  "language_info": {
   "codemirror_mode": {
    "name": "ipython",
    "version": 3
   },
   "file_extension": ".py",
   "mimetype": "text/x-python",
   "name": "python",
   "nbconvert_exporter": "python",
   "pygments_lexer": "ipython3",
   "version": "3.7.7"
  }
 },
 "nbformat": 4,
 "nbformat_minor": 2
}
