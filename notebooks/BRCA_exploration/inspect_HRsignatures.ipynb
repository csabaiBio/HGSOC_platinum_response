{
 "cells": [
  {
   "cell_type": "code",
   "execution_count": 27,
   "metadata": {},
   "outputs": [],
   "source": [
    "import pandas as pd\n",
    "from sklearn.model_selection import train_test_split\n",
    "from sklearn.ensemble import RandomForestClassifier, GradientBoostingClassifier\n",
    "from sklearn.svm import SVC\n",
    "from sklearn.neighbors import KNeighborsClassifier\n",
    "from sklearn.metrics import roc_auc_score, f1_score\n",
    "from sklearn.linear_model import LogisticRegression, Lasso\n",
    "import numpy as np"
   ]
  },
  {
   "cell_type": "code",
   "execution_count": 28,
   "metadata": {},
   "outputs": [],
   "source": [
    "df = pd.read_csv('/mnt/ncshare/ozkilim/BRCA/data/tasks/combined_genomic_plat_responce.csv')  # Or load your DataFrame by other means\n",
    "\n",
    "feature_cols = [\"Signature.1\", \"Signature.2\", \"Signature.3\", \"Signature.5\", \"Signature.8\", \"Signature.13\", \"Microhomology2\", \"Microhomology2ratio\", \"Del/ins-ratio\", \"Del10-ratio\", \"HRD-LOH\", \"Telomeric.AI\", \"LST\", \"DBS2\", \"DBS4\", \"DBS5\", \"DBS6\", \"DBS9\", \"SBS1\", \"SBS2\", \"SBS3\", \"SBS5\", \"SBS8\", \"SBS13\", \"SBS18\", \"SBS26\", \"SBS35\", \"SBS38\", \"SBS39\", \"SBS40\", \"SBS41\", \"ID1\", \"ID2\", \"ID4\", \"ID8\", \"HRDetect\"]\n",
    "\n",
    "grouped = df.groupby('case_id')\n",
    "groups = [grouped.get_group(x) for x in grouped.groups]\n",
    "\n",
    "\n",
    "# Randomly shuffle the list of groups\n",
    "np.random.shuffle(groups)\n",
    "\n",
    "# Split the groups (e.g., 70% training, 30% testing)\n",
    "split_index = int(len(groups) * 0.9)\n",
    "train_groups = groups[:split_index]\n",
    "test_groups = groups[split_index:]\n",
    "\n",
    "# Concatenate the groups back into DataFrames\n",
    "train_df = pd.concat(train_groups)\n",
    "test_df = pd.concat(test_groups)\n",
    "\n",
    "X_train = train_df[feature_cols]\n",
    "y_train = train_df['DSS']\n",
    "X_test = test_df[feature_cols]\n",
    "y_test = test_df['DSS']\n"
   ]
  },
  {
   "cell_type": "code",
   "execution_count": 29,
   "metadata": {},
   "outputs": [
    {
     "name": "stdout",
     "output_type": "stream",
     "text": [
      "[0. 0. 1. 1. 1. 1. 0. 0. 1. 1. 1. 1. 1. 1. 0. 0. 0. 0. 1. 1. 0. 0. 0. 0.\n",
      " 1. 1. 1. 1. 1. 1. 0. 0. 1. 1. 0. 0. 1. 1. 0. 0. 1. 1. 1. 1. 0. 0. 1. 1.\n",
      " 1. 1. 0. 0. 0. 0. 0. 0. 0. 0. 1. 1. 0. 0. 0. 0. 1. 1. 1. 1. 0. 0. 0. 0.\n",
      " 1. 1. 1. 1. 0. 0. 1. 1. 1. 1. 0. 0. 0. 0. 1. 1.]\n",
      "Model: RandomForestClassifier\n",
      "AUC Score: 0.49455337690631807\n",
      "F1 Score: 0.45\n",
      "\n",
      "[0. 0. 1. 1. 1. 1. 1. 1. 1. 1. 1. 1. 1. 1. 1. 1. 0. 0. 1. 1. 1. 1. 1. 1.\n",
      " 0. 0. 0. 0. 0. 0. 0. 0. 1. 1. 0. 0. 1. 1. 0. 0. 1. 1. 1. 1. 1. 1. 1. 1.\n",
      " 1. 1. 0. 0. 1. 1. 1. 1. 0. 0. 1. 1. 0. 0. 1. 1. 1. 1. 1. 1. 0. 0. 0. 0.\n",
      " 1. 1. 0. 0. 0. 0. 0. 0. 1. 1. 1. 1. 0. 0. 1. 1.]\n",
      "Model: SVC\n",
      "AUC Score: 0.49455337690631807\n",
      "F1 Score: 0.5\n",
      "\n",
      "[1. 1. 0. 0. 0. 0. 0. 0. 1. 1. 1. 1. 1. 1. 1. 1. 0. 0. 1. 1. 0. 0. 0. 0.\n",
      " 1. 1. 1. 1. 1. 1. 0. 0. 1. 1. 0. 0. 1. 1. 0. 0. 1. 1. 1. 1. 1. 1. 1. 1.\n",
      " 1. 1. 0. 0. 0. 0. 0. 0. 0. 0. 1. 1. 0. 0. 1. 1. 1. 1. 0. 0. 1. 1. 1. 1.\n",
      " 1. 1. 1. 1. 0. 0. 1. 1. 1. 1. 0. 0. 0. 0. 1. 1.]\n",
      "Model: GradientBoostingClassifier\n",
      "AUC Score: 0.3812636165577342\n",
      "F1 Score: 0.3255813953488372\n",
      "\n",
      "[0. 0. 1. 1. 1. 1. 1. 1. 1. 1. 1. 1. 1. 1. 1. 1. 0. 0. 1. 1. 1. 1. 1. 1.\n",
      " 0. 0. 0. 0. 0. 0. 0. 0. 1. 1. 1. 1. 1. 1. 0. 0. 1. 1. 1. 1. 1. 1. 1. 1.\n",
      " 1. 1. 1. 1. 1. 1. 0. 0. 0. 0. 1. 1. 0. 0. 1. 1. 1. 1. 0. 0. 0. 0. 0. 0.\n",
      " 1. 1. 1. 1. 0. 0. 1. 1. 0. 0. 1. 1. 0. 0. 1. 1.]\n",
      "Model: KNeighborsClassifier\n",
      "AUC Score: 0.4923747276688453\n",
      "F1 Score: 0.5333333333333333\n",
      "\n",
      "[0. 0. 0. 0. 0. 0. 0. 0. 1. 1. 1. 1. 1. 1. 1. 1. 0. 0. 1. 1. 0. 0. 0. 0.\n",
      " 1. 1. 0. 0. 0. 0. 0. 0. 1. 1. 0. 0. 1. 1. 0. 0. 1. 1. 1. 1. 1. 1. 1. 1.\n",
      " 1. 1. 0. 0. 1. 1. 0. 0. 0. 0. 1. 1. 0. 0. 1. 1. 1. 1. 1. 1. 0. 0. 0. 0.\n",
      " 1. 1. 0. 0. 0. 0. 0. 0. 1. 1. 1. 1. 0. 0. 0. 0.]\n",
      "Model: LogisticRegression\n",
      "AUC Score: 0.49673202614379086\n",
      "F1 Score: 0.36842105263157887\n",
      "\n"
     ]
    }
   ],
   "source": [
    "def train_evaluate_model(model, X_train, y_train, X_test, y_test):\n",
    "    model.fit(X_train, y_train)\n",
    "    y_pred = model.predict(X_test)\n",
    "    y_pred_proba = model.predict_proba(X_test)[:, 1]\n",
    "    auc_score = roc_auc_score(y_test, y_pred_proba)\n",
    "    # print(y_test)\n",
    "    print(y_pred)\n",
    "    f1 = f1_score(y_test, y_pred)\n",
    "    print(f'Model: {model.__class__.__name__}')\n",
    "    print(f'AUC Score: {auc_score}')\n",
    "    print(f'F1 Score: {f1}\\n')\n",
    "\n",
    "# List of models to train\n",
    "models = [\n",
    "    RandomForestClassifier(),\n",
    "    SVC(probability=True),\n",
    "    GradientBoostingClassifier(),\n",
    "    KNeighborsClassifier(),\n",
    "    LogisticRegression(),\n",
    "    # Lasso(alpha=1.0)\n",
    "]\n",
    "\n",
    "# Train and evaluate each model\n",
    "for model in models:\n",
    "    train_evaluate_model(model, X_train, y_train, X_test, y_test)"
   ]
  }
 ],
 "metadata": {
  "kernelspec": {
   "display_name": "clam",
   "language": "python",
   "name": "python3"
  },
  "language_info": {
   "codemirror_mode": {
    "name": "ipython",
    "version": 3
   },
   "file_extension": ".py",
   "mimetype": "text/x-python",
   "name": "python",
   "nbconvert_exporter": "python",
   "pygments_lexer": "ipython3",
   "version": "3.7.7"
  }
 },
 "nbformat": 4,
 "nbformat_minor": 2
}
