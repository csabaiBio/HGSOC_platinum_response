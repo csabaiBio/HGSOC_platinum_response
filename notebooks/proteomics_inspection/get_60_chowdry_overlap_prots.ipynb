{
 "cells": [
  {
   "cell_type": "code",
   "execution_count": 1,
   "metadata": {},
   "outputs": [
    {
     "name": "stdout",
     "output_type": "stream",
     "text": [
      "7621\n"
     ]
    }
   ],
   "source": [
    "import matplotlib.pyplot as plt\n",
    "import requests\n",
    "import networkx as nx\n",
    "import markov_clustering as mc\n",
    "import pandas as pd\n",
    "\n",
    "proteins = ['RAB25', 'BCL2L1', 'HADH', 'NFKB2', 'COX7A2', 'COX7C', 'TPMT', 'GOLPH3L', 'LTA4H', 'COX6C', 'IDH1', 'YWHAG', 'S100A10', 'COX6A1', 'NDUFB3', 'TGM2', 'CDKN1B', 'NFKB1', 'CAMK2D', 'IL4I1', 'FDX1', 'VCAM1', 'ATM', 'NCAPH2', 'ABCB8', 'IDI1', 'PLIN2', 'ATP6V1D', 'GPX4', 'CA2', 'RELA', 'GLUD1', 'TOP3B', 'RPS6KB2', 'KEAP1', 'LGALS1', 'MTDH', 'AIFM1', 'RHOA', 'CASP7', 'PTGES2', 'TFRC', 'CHUK', 'GPX1', 'PDK1', 'STAT3', 'PECR', 'TALDO1', 'XIAP', 'ACADSB', 'CPOX', 'ARNT', 'BIRC2', 'ACOT7', 'HACL1', 'MYD88', 'EGFR', 'RIPK1', 'NBN', 'LDHA']\n",
    "\n",
    "# gloabal_prot = pd.read_csv(\"/mnt/ncshare/ozkilim/BRCA/data/HGSOC_processed_data/FFPE_discovery_globalprotein_imputed.tsv\",delimiter='\\t')\n",
    "# HGSOC_prots = gloabal_prot[\"HGNC symbol\"].to_list()\n",
    "\n",
    "tcga_proteomic = pd.read_excel(\"/mnt/ncshare/ozkilim/BRCA/data/HGSOC_Zhang_TCGA_CPTAC_OV/mmc3-2.xlsx\")\n",
    "tcga_prots = tcga_proteomic[\"hgnc_symbol\"].to_list()\n",
    "\n",
    "\n",
    "set1 = set(tcga_prots)\n",
    "set2 = set(HGSOC_prots)\n",
    "# Find intersection\n",
    "intersection = set1 & set2\n",
    "\n",
    "# # Convert back to list\n",
    "proteins = list(intersection)\n",
    "\n",
    "print(len(proteins))\n",
    "# get all intersecting prots."
   ]
  }
 ],
 "metadata": {
  "kernelspec": {
   "display_name": "clam",
   "language": "python",
   "name": "python3"
  },
  "language_info": {
   "codemirror_mode": {
    "name": "ipython",
    "version": 3
   },
   "file_extension": ".py",
   "mimetype": "text/x-python",
   "name": "python",
   "nbconvert_exporter": "python",
   "pygments_lexer": "ipython3",
   "version": "3.7.7"
  }
 },
 "nbformat": 4,
 "nbformat_minor": 2
}
