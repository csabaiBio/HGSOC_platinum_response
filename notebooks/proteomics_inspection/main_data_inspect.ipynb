{
 "cells": [
  {
   "cell_type": "code",
   "execution_count": 2,
   "metadata": {},
   "outputs": [],
   "source": [
    "import pandas as pd "
   ]
  },
  {
   "cell_type": "code",
   "execution_count": 3,
   "metadata": {},
   "outputs": [
    {
     "name": "stderr",
     "output_type": "stream",
     "text": [
      "/home/ozkilim/anaconda3/envs/clam/lib/python3.7/site-packages/IPython/core/interactiveshell.py:3331: DtypeWarning: Columns (5283,7094) have mixed types.Specify dtype option on import or set low_memory=False.\n",
      "  exec(code_obj, self.user_global_ns, self.user_ns)\n"
     ]
    }
   ],
   "source": [
    "df = pd.read_csv(\"/mnt/ncshare/ozkilim/BRCA/HGSOC_platinum_responce/HGSOC_TCGA_main.csv\")"
   ]
  },
  {
   "cell_type": "code",
   "execution_count": 19,
   "metadata": {},
   "outputs": [
    {
     "data": {
      "text/plain": [
       "159"
      ]
     },
     "execution_count": 19,
     "metadata": {},
     "output_type": "execute_result"
    }
   ],
   "source": [
    "len(df[df[\"Sample Source\"]==\"TCGA\"][\"slide_id\"].unique())\n",
    "\n",
    "\n",
    "\n",
    "# get stage info...\n",
    "\n",
    "# get HDR status values and counts...\n",
    "\n"
   ]
  },
  {
   "cell_type": "code",
   "execution_count": 12,
   "metadata": {},
   "outputs": [
    {
     "name": "stdout",
     "output_type": "stream",
     "text": [
      "22\n",
      "1    32\n",
      "0    12\n",
      "Name: label, dtype: int64\n",
      "41\n",
      "1    72\n",
      "0    22\n",
      "Name: label, dtype: int64\n",
      "31\n",
      "1    34\n",
      "0    28\n",
      "Name: label, dtype: int64\n"
     ]
    }
   ],
   "source": [
    "\n",
    "def print_amounts(df):\n",
    "    print(len(df['case_id'].unique()))\n",
    "    print(df[\"label\"].value_counts())\n",
    "\n",
    "df1 = df[(df[\"Sample Source\"]==\"UAB\") & (df[\"Tumor type\"]==\"Primary\")]\n",
    "print_amounts(df1)\n",
    "\n",
    "df2 = df[(df[\"Sample Source\"]==\"FHCRC\") & (df[\"Tumor type\"]==\"Primary\")]\n",
    "print_amounts(df2)\n",
    "\n",
    "df3 = df[(df[\"Sample Source\"]==\"FHCRC\") & (df[\"Tumor type\"]==\"Metastatic\")]\n",
    "print_amounts(df3)\n",
    "\n",
    "\n",
    "# find overlap ... \n",
    "# split to metaastatic and non etc... "
   ]
  },
  {
   "cell_type": "code",
   "execution_count": 5,
   "metadata": {},
   "outputs": [
    {
     "data": {
      "text/plain": [
       "158"
      ]
     },
     "execution_count": 5,
     "metadata": {},
     "output_type": "execute_result"
    }
   ],
   "source": [
    "df_HGSOC = df[df[\"Sample Source\"]!=\"TCGA\"]\n",
    "len(df_HGSOC['case_id'].unique())\n",
    "# df_HGSOC[\"label\"].value_counts()"
   ]
  },
  {
   "cell_type": "code",
   "execution_count": null,
   "metadata": {},
   "outputs": [],
   "source": []
  }
 ],
 "metadata": {
  "kernelspec": {
   "display_name": "clam",
   "language": "python",
   "name": "python3"
  },
  "language_info": {
   "codemirror_mode": {
    "name": "ipython",
    "version": 3
   },
   "file_extension": ".py",
   "mimetype": "text/x-python",
   "name": "python",
   "nbconvert_exporter": "python",
   "pygments_lexer": "ipython3",
   "version": "3.7.7"
  }
 },
 "nbformat": 4,
 "nbformat_minor": 2
}
