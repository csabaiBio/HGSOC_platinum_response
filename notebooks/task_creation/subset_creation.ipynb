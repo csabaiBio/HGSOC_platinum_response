{
 "cells": [
  {
   "cell_type": "code",
   "execution_count": 33,
   "metadata": {},
   "outputs": [],
   "source": [
    "import pandas as pd\n",
    "import numpy as np\n",
    "import matplotlib.pyplot as plt\n",
    "from collections import Counter\n",
    "from pathlib import Path"
   ]
  },
  {
   "cell_type": "code",
   "execution_count": 34,
   "metadata": {},
   "outputs": [],
   "source": [
    "df = pd.read_csv(\"../data/raw_subsets/filtered_TCGA_data.csv\")"
   ]
  },
  {
   "cell_type": "code",
   "execution_count": 35,
   "metadata": {},
   "outputs": [
    {
     "data": {
      "text/html": [
       "<div>\n",
       "<style scoped>\n",
       "    .dataframe tbody tr th:only-of-type {\n",
       "        vertical-align: middle;\n",
       "    }\n",
       "\n",
       "    .dataframe tbody tr th {\n",
       "        vertical-align: top;\n",
       "    }\n",
       "\n",
       "    .dataframe thead th {\n",
       "        text-align: right;\n",
       "    }\n",
       "</style>\n",
       "<table border=\"1\" class=\"dataframe\">\n",
       "  <thead>\n",
       "    <tr style=\"text-align: right;\">\n",
       "      <th></th>\n",
       "      <th>case_id</th>\n",
       "      <th>slide_id</th>\n",
       "      <th>slide_type</th>\n",
       "      <th>brca_status</th>\n",
       "      <th>hrd_score</th>\n",
       "    </tr>\n",
       "  </thead>\n",
       "  <tbody>\n",
       "    <tr>\n",
       "      <th>0</th>\n",
       "      <td>TCGA-36-2532</td>\n",
       "      <td>TCGA-36-2532-01A-01-BS1.acb0df6f-8ce4-4af7-a5d...</td>\n",
       "      <td>BS1</td>\n",
       "      <td>negative</td>\n",
       "      <td>0.005919</td>\n",
       "    </tr>\n",
       "    <tr>\n",
       "      <th>1</th>\n",
       "      <td>TCGA-30-1856</td>\n",
       "      <td>TCGA-30-1856-01A-01-TS1.81cdd81e-5115-405e-875...</td>\n",
       "      <td>TS1</td>\n",
       "      <td>negative</td>\n",
       "      <td>0.142597</td>\n",
       "    </tr>\n",
       "    <tr>\n",
       "      <th>2</th>\n",
       "      <td>TCGA-57-1994</td>\n",
       "      <td>TCGA-57-1994-01Z-00-DX1.A0798185-30C5-4C32-B1A...</td>\n",
       "      <td>DX1</td>\n",
       "      <td>negative</td>\n",
       "      <td>0.418119</td>\n",
       "    </tr>\n",
       "    <tr>\n",
       "      <th>3</th>\n",
       "      <td>TCGA-29-1695</td>\n",
       "      <td>TCGA-29-1695-01A-01-BS1.06ff1b46-dadd-4aa2-a60...</td>\n",
       "      <td>BS1</td>\n",
       "      <td>negative</td>\n",
       "      <td>0.035185</td>\n",
       "    </tr>\n",
       "    <tr>\n",
       "      <th>4</th>\n",
       "      <td>TCGA-61-2092</td>\n",
       "      <td>TCGA-61-2092-01A-01-TS1.060203fd-43c4-4e4c-8b3...</td>\n",
       "      <td>TS1</td>\n",
       "      <td>negative</td>\n",
       "      <td>0.002039</td>\n",
       "    </tr>\n",
       "  </tbody>\n",
       "</table>\n",
       "</div>"
      ],
      "text/plain": [
       "        case_id                                           slide_id slide_type  \\\n",
       "0  TCGA-36-2532  TCGA-36-2532-01A-01-BS1.acb0df6f-8ce4-4af7-a5d...        BS1   \n",
       "1  TCGA-30-1856  TCGA-30-1856-01A-01-TS1.81cdd81e-5115-405e-875...        TS1   \n",
       "2  TCGA-57-1994  TCGA-57-1994-01Z-00-DX1.A0798185-30C5-4C32-B1A...        DX1   \n",
       "3  TCGA-29-1695  TCGA-29-1695-01A-01-BS1.06ff1b46-dadd-4aa2-a60...        BS1   \n",
       "4  TCGA-61-2092  TCGA-61-2092-01A-01-TS1.060203fd-43c4-4e4c-8b3...        TS1   \n",
       "\n",
       "  brca_status  hrd_score  \n",
       "0    negative   0.005919  \n",
       "1    negative   0.142597  \n",
       "2    negative   0.418119  \n",
       "3    negative   0.035185  \n",
       "4    negative   0.002039  "
      ]
     },
     "execution_count": 35,
     "metadata": {},
     "output_type": "execute_result"
    }
   ],
   "source": [
    "df.head()"
   ]
  },
  {
   "cell_type": "markdown",
   "metadata": {},
   "source": [
    "### Split for HRD score training"
   ]
  },
  {
   "cell_type": "code",
   "execution_count": 36,
   "metadata": {},
   "outputs": [],
   "source": [
    "threshold = 0.7\n",
    "# Create a new column based on binary thresholding\n",
    "df['hrd_status'] = df['hrd_score'].apply(lambda x: 1 if x >= threshold else 0)\n",
    "# 0    533\n",
    "# 1    530"
   ]
  },
  {
   "cell_type": "code",
   "execution_count": 37,
   "metadata": {},
   "outputs": [],
   "source": [
    "df_hrd_status = df[[\"case_id\",\"slide_id\",\"hrd_status\"]]\n",
    "df_hrd_status.to_csv(\"../data/raw_subsets/HRD_binary.csv\",index=False)"
   ]
  },
  {
   "cell_type": "markdown",
   "metadata": {},
   "source": []
  },
  {
   "cell_type": "code",
   "execution_count": null,
   "metadata": {},
   "outputs": [],
   "source": []
  }
 ],
 "metadata": {
  "kernelspec": {
   "display_name": "clam",
   "language": "python",
   "name": "python3"
  },
  "language_info": {
   "codemirror_mode": {
    "name": "ipython",
    "version": 3
   },
   "file_extension": ".py",
   "mimetype": "text/x-python",
   "name": "python",
   "nbconvert_exporter": "python",
   "pygments_lexer": "ipython3",
   "version": "3.7.7"
  }
 },
 "nbformat": 4,
 "nbformat_minor": 2
}
