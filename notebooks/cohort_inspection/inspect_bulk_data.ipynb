{
 "cells": [
  {
   "cell_type": "code",
   "execution_count": 2,
   "metadata": {},
   "outputs": [],
   "source": [
    "import numpy as np"
   ]
  },
  {
   "cell_type": "code",
   "execution_count": 3,
   "metadata": {},
   "outputs": [
    {
     "name": "stdout",
     "output_type": "stream",
     "text": [
      "Folder: Ovarian_WSIs, Number of Files: 0\n",
      "Folder: CPTAC_OV, Number of Files: 221\n",
      "Folder: Ovarian_combined_tif, Number of Files: 284\n",
      "Folder: TCGA-OV, Number of Files: 2962\n",
      "Folder: HGSOC_ovarian, Number of Files: 349\n",
      "Folder: BRCA_blind_test, Number of Files: 43\n",
      "Folder: SZ1762_23-1-6-1, Number of Files: 25\n",
      "Folder: SZ11596_21-3-2-1, Number of Files: 24\n",
      "Folder: 8, Number of Files: 25\n",
      "Folder: SZ1075_23-2-2-1, Number of Files: 25\n",
      "Folder: SZ4230_22-2-28-1, Number of Files: 24\n",
      "Folder: SZ7283_22-1-14-1, Number of Files: 25\n",
      "Folder: SZ9480_22-6-3-1, Number of Files: 25\n",
      "Folder: SZ6774_22-3-11-1, Number of Files: 25\n",
      "Folder: MP714_22-1-1-1, Number of Files: 24\n",
      "Folder: SZ347_23-1-3-1, Number of Files: 25\n",
      "Folder: MP2841_23-1-1-1, Number of Files: 25\n",
      "Folder: SZ8502_22-1-4-1, Number of Files: 26\n",
      "Folder: MP295_22-1-1-1, Number of Files: 26\n",
      "Folder: SZ8207_22-4-4-1, Number of Files: 25\n",
      "Folder: SZ3585_22-2-1-1, Number of Files: 25\n",
      "Folder: SZ10091_22-1-16-1, Number of Files: 25\n",
      "Folder: SZ6773_22-1-16-1, Number of Files: 24\n",
      "Folder: SZ1138_23-3-21-1, Number of Files: 25\n",
      "Folder: SZ4863_22-2-2-1, Number of Files: 25\n",
      "Folder: SZ7879_22-4-9-1, Number of Files: 25\n",
      "Folder: SZ3646_22-1-1-1, Number of Files: 24\n",
      "Folder: MP1467_23-1-1-1, Number of Files: 25\n",
      "Folder: slide-2023-08-28T17-55-15-R3-S5, Number of Files: 25\n",
      "Folder: MP1367_22-1-1-1, Number of Files: 26\n",
      "Folder: SZ8852_22-1-5-1, Number of Files: 24\n",
      "Folder: SZ4970_22-1-8-1, Number of Files: 24\n",
      "Folder: SZ8493_15-6-4-1, Number of Files: 25\n",
      "Folder: SZ3120_22-1-8-1, Number of Files: 25\n",
      "Folder: SZ1188_17-4-5-1, Number of Files: 25\n",
      "Folder: slide-2023-08-28T17-48-44-R3-S2, Number of Files: 24\n",
      "Folder: SZ7134_20-6-5-1, Number of Files: 25\n",
      "Folder: SZ11410_21-3-2-1, Number of Files: 25\n",
      "Folder: SZ9225_19-1-12-1, Number of Files: 25\n",
      "Folder: MP685_22-1-1-1, Number of Files: 24\n",
      "Folder: SZ2303_22-1-8-1, Number of Files: 24\n",
      "Folder: MP2884_23-1-1-1, Number of Files: 26\n",
      "Folder: MP653_23-1-1-1, Number of Files: 25\n",
      "Folder: SZ656_23-1-7-1, Number of Files: 25\n",
      "Folder: MP948_23-1-1-2, Number of Files: 25\n",
      "Folder: slide-2023-08-28T17-22-13-R2-S16, Number of Files: 24\n",
      "Folder: SZ10768_22-4-3-1, Number of Files: 24\n",
      "Folder: SZ6409_22-2-3-1, Number of Files: 25\n",
      "Folder: SZ787_22-3-17-1, Number of Files: 25\n",
      "Folder: UBC-OCEAN, Number of Files: 3\n",
      "Folder: test_thumbnails, Number of Files: 1\n",
      "Folder: test_images, Number of Files: 1\n",
      "Folder: train_thumbnails, Number of Files: 513\n",
      "Folder: train_images, Number of Files: 538\n"
     ]
    }
   ],
   "source": [
    "\n",
    "import os\n",
    "\n",
    "# Specify the root directory you want to search\n",
    "root_directory = '/tank/WSI_data/Ovarian_WSIs'\n",
    "\n",
    "# Initialize an empty dictionary to store the folder names and file counts\n",
    "folder_file_counts = {}\n",
    "\n",
    "# Walk through the directory and count files in each folder\n",
    "for folder_path, _, files in os.walk(root_directory):\n",
    "    folder_name = os.path.basename(folder_path)\n",
    "    file_count = len(files)\n",
    "    folder_file_counts[folder_name] = file_count\n",
    "\n",
    "# Print the results\n",
    "for folder, count in folder_file_counts.items():\n",
    "    print(f\"Folder: {folder}, Number of Files: {count}\")"
   ]
  }
 ],
 "metadata": {
  "kernelspec": {
   "display_name": "clam",
   "language": "python",
   "name": "python3"
  },
  "language_info": {
   "codemirror_mode": {
    "name": "ipython",
    "version": 3
   },
   "file_extension": ".py",
   "mimetype": "text/x-python",
   "name": "python",
   "nbconvert_exporter": "python",
   "pygments_lexer": "ipython3",
   "version": "3.7.7"
  },
  "orig_nbformat": 4
 },
 "nbformat": 4,
 "nbformat_minor": 2
}
