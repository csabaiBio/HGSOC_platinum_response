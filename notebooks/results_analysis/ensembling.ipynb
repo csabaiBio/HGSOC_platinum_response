{
 "cells": [
  {
   "cell_type": "code",
   "execution_count": 5,
   "metadata": {},
   "outputs": [],
   "source": [
    "from tensorflow.python.summary.summary_iterator import summary_iterator\n",
    "import matplotlib.pylab as plt\n",
    "import glob\n",
    "import os\n",
    "import numpy as np\n",
    "import pandas as pd \n",
    "from scipy import stats\n",
    "import json"
   ]
  },
  {
   "cell_type": "code",
   "execution_count": 18,
   "metadata": {},
   "outputs": [
    {
     "name": "stdout",
     "output_type": "stream",
     "text": [
      "                       slide_id                        prob  label\n",
      "0    1009466_171125_ImageActual   [[0.48330188, 0.5166981]]      1\n",
      "1    1009467_416633_ImageActual   [[0.47189575, 0.5281043]]      1\n",
      "2    1009603_269112_ImageActual   [[0.4657748, 0.53422517]]      0\n",
      "3    1009604_269113_ImageActual   [[0.47644413, 0.5235559]]      0\n",
      "4    1009790_271240_ImageActual  [[0.48721814, 0.51278186]]      0\n",
      "..                          ...                         ...    ...\n",
      "169  1009854_271293_ImageActual  [[0.46010527, 0.53989476]]      1\n",
      "170  1009420_171030_ImageActual    [[0.474574, 0.52542603]]      1\n",
      "171  1009421_171104_ImageActual  [[0.47115725, 0.52884275]]      1\n",
      "172  1009428_171137_ImageActual  [[0.50623035, 0.49376965]]      1\n",
      "173  1009429_416624_ImageActual  [[0.49427396, 0.50572604]]      1\n",
      "\n",
      "[174 rows x 3 columns]\n"
     ]
    }
   ],
   "source": [
    "\n",
    "\n",
    "def get_auc_scores_from_file(root_dir):\n",
    "    \n",
    "    if isinstance(root_dir, str):\n",
    "        all_aucs = []\n",
    "        file_extension = \"*.pkl\"\n",
    "\n",
    "        joined_dir = \"/mnt/ncshare/ozkilim/BRCA/results/NERO_HGSOC/\" + root_dir\n",
    "        # Recursively traverse the directory and its subdirectories\n",
    "        for subdir, _, files in os.walk(joined_dir):\n",
    "\n",
    "            # Use glob to find all files with the specified extension\n",
    "            for file in glob.glob(os.path.join(subdir, file_extension)):\n",
    "                #read the pkl \n",
    "                df = pd.read_pickle(file)\n",
    "                data = []\n",
    "                for key, value in df.items():\n",
    "                    slide_id = value['slide_id']\n",
    "                    prob = value['prob']\n",
    "                    label = value['label']\n",
    "                    data.append({'slide_id': slide_id, 'prob': prob, 'label': label})\n",
    "\n",
    "                # Creating DataFrame\n",
    "                df = pd.DataFrame(data)\n",
    "                # df['prob'] = df['prob'].apply(lambda x: x[0][0] if x else None)\n",
    "\n",
    "                # df = pd.DataFrame(df)\n",
    "                print(df)\n",
    "                break \n",
    "            break \n",
    "    \n",
    "\n",
    "\n",
    "# way to ensmble such df's'\n",
    "\n",
    "\n",
    "get_auc_scores_from_file(\"/NERO_HGSOC_clam_sb_CTransPath_primary_s1\")"
   ]
  },
  {
   "cell_type": "code",
   "execution_count": null,
   "metadata": {},
   "outputs": [],
   "source": [
    "turn into function to extract and create enesemble in other scriopts... \n",
    "\n",
    "\n"
   ]
  }
 ],
 "metadata": {
  "kernelspec": {
   "display_name": "clam",
   "language": "python",
   "name": "python3"
  },
  "language_info": {
   "codemirror_mode": {
    "name": "ipython",
    "version": 3
   },
   "file_extension": ".py",
   "mimetype": "text/x-python",
   "name": "python",
   "nbconvert_exporter": "python",
   "pygments_lexer": "ipython3",
   "version": "3.7.7"
  }
 },
 "nbformat": 4,
 "nbformat_minor": 2
}
