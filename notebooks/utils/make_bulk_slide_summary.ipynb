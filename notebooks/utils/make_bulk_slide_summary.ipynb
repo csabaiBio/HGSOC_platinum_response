{
 "cells": [
  {
   "cell_type": "code",
   "execution_count": 1,
   "metadata": {},
   "outputs": [],
   "source": [
    "import pandas as pd"
   ]
  },
  {
   "cell_type": "code",
   "execution_count": 2,
   "metadata": {},
   "outputs": [],
   "source": [
    "slides = pd.read_csv(\"/local_storage/Ovarain_CLAM_data/UBC/patches_level_1/process_list_autogen.csv\")\n",
    "slides[\"slide_id\"] = slides[\"slide_id\"].str[:-4]\n",
    "slides.to_csv(\"/mnt/ncshare/ozkilim/BRCA/data/bulk_summary_lists/UBC_all.csv\",index=None)"
   ]
  }
 ],
 "metadata": {
  "kernelspec": {
   "display_name": "clam",
   "language": "python",
   "name": "python3"
  },
  "language_info": {
   "codemirror_mode": {
    "name": "ipython",
    "version": 3
   },
   "file_extension": ".py",
   "mimetype": "text/x-python",
   "name": "python",
   "nbconvert_exporter": "python",
   "pygments_lexer": "ipython3",
   "version": "3.7.7"
  },
  "orig_nbformat": 4
 },
 "nbformat": 4,
 "nbformat_minor": 2
}
